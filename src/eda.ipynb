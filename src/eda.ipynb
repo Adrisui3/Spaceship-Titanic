{
 "cells": [
  {
   "cell_type": "markdown",
   "metadata": {},
   "source": [
    "# Análisis exploratorio de datos (EDA)\n",
    "### Autores: Ricardo, Eusebio, Marcos, Adrián José Martínez Navarro, Javier Gamero Muñoz "
   ]
  },
  {
   "cell_type": "markdown",
   "metadata": {},
   "source": [
    "# Índice \n",
    "* [Introducción al problema](#introducción-al-problema)\n",
    "* [Recodificación de variables](#recodificación-de-variables)\n",
    "  * [Variable ```Cabin```](#recodificación-de-la-variable-cabin)\n",
    "  * [Creación de la variable ```Alone```](#creación-de-la-variable-alone)\n",
    "* [Valores perdidos / *Missing values*](#valores-perdidos-o-missing-values)\n",
    "  * [Missing values categóricos](#missing-values-categóricos)\n",
    "  * [Missing values numéricos](#missing-values-numéricos)\n",
    "* [Análisis de las variables con gráficas](#análisis-de-las-variables-con-gráficas)\n",
    "  * [Análisis univariable](#análisis-univariable)\n",
    "  * [Análisis bivariable](#análisis-bivariable)"
   ]
  },
  {
   "cell_type": "markdown",
   "metadata": {},
   "source": [
    "# Introducción al problema\n",
    "El problema que se presenta tiene lugar en el año 2912, donde la nave espacial \n",
    "*Titanic* colisionó con una anomalía espacial. Como resultado de este accidente, \n",
    "algunos de los pasajeros fueron transportados a otra dimensión. De esta manera, el objetivo de este trabajo es clasificar (a partir de aquellos que sabemos que han sido transportados o no transportados, **train**) si un menor grupo de personas (**test**) han sido transportadas. Para ello, se hará uso de cinco algoritmos de clasificación: \n",
    "* *k nearest neighbors (kNN)* \n",
    "* Árboles de clasificación\n",
    "* *Supported vector machine (SVM)*\n",
    "* Regresión logística\n",
    "* Naïve Bayes\n",
    "\n",
    "De la página de \n",
    "[kaggle](https://www.kaggle.com/competitions/spaceship-titanic/data)\n",
    "de donde se sacan los datos, se obtiene que cada instancia corresponde a la información descriptora de cada pasajero definida por las siguientes variables:\n",
    "\n",
    "**Variables de entrada:**\n",
    "* ```PassengerId```: Identifiación para cada pasajero en el formato *gggg_pp*, \n",
    "  donde *gggg* indica su grupo de viaje y *pp* su número identificador dentro del grupo. Personas en un \n",
    "  mismo grupo suelen ser familias, aunque no siempre.\n",
    "* ```Homeplanet```: Planeta donde embarca el pasajero.\n",
    "* ```CryoSleep```: Indica si el pasajero fue puesto en animación suspendida \n",
    "  durante el viaje.\n",
    "* ```Cabin```: número de cabina donde el pasajero viajaba en el formato \n",
    "  *deck/num/side* donde *side* puede ser *P* para *babor* o *S* para *estribor*.\n",
    "* ```Destination```: Planeta donde el pasajero desembarca.\n",
    "* ```Age```: Edad del pasajero.\n",
    "* ```VIP```: Indica si el pasajero tenía un servicio VIP durante el viaje.\n",
    "* ```RoomService```, ```FoodCourt```, ```ShoppingMall```, ```Spa```, \n",
    "  ```VRDeck```: Cantidad de dinero empleado en los distintos servicios de la nave.\n",
    "* ```Name```: Nombre y primer apellido del pasajero.\n",
    "\n",
    "**Variable de salida:**\n",
    "* ```Transported```:Indica si el pasajero fue \n",
    "  transportado a otra dimensión o no.\n",
    "\n",
    "De esta manera, los datos recogidos están separados en dos datasets, ```train.csv``` y \n",
    "```test.csv```, teniendo el primero de ellos los casos donde sí se conoce el \n",
    "destino de las personas (si han sido transportadas o no), mientras que en el \n",
    "segundo de ellos no. \n",
    "\n",
    "Comenzamos estudiando las variables del dataset ```train.csv```:"
   ]
  },
  {
   "cell_type": "code",
   "execution_count": null,
   "metadata": {
    "scrolled": true,
    "vscode": {
     "languageId": "r"
    }
   },
   "outputs": [
    {
     "name": "stderr",
     "output_type": "stream",
     "text": [
      "── \u001b[1mAttaching packages\u001b[22m ─────────────────────────────────────── tidyverse 1.3.2 ──\n",
      "\u001b[32m✔\u001b[39m \u001b[34mggplot2\u001b[39m 3.4.0      \u001b[32m✔\u001b[39m \u001b[34mpurrr  \u001b[39m 0.3.4 \n",
      "\u001b[32m✔\u001b[39m \u001b[34mtibble \u001b[39m 3.1.8      \u001b[32m✔\u001b[39m \u001b[34mdplyr  \u001b[39m 1.0.10\n",
      "\u001b[32m✔\u001b[39m \u001b[34mtidyr  \u001b[39m 1.2.1      \u001b[32m✔\u001b[39m \u001b[34mstringr\u001b[39m 1.4.1 \n",
      "\u001b[32m✔\u001b[39m \u001b[34mreadr  \u001b[39m 2.1.3      \u001b[32m✔\u001b[39m \u001b[34mforcats\u001b[39m 0.5.2 \n",
      "── \u001b[1mConflicts\u001b[22m ────────────────────────────────────────── tidyverse_conflicts() ──\n",
      "\u001b[31m✖\u001b[39m \u001b[34mdplyr\u001b[39m::\u001b[32mfilter()\u001b[39m masks \u001b[34mstats\u001b[39m::filter()\n",
      "\u001b[31m✖\u001b[39m \u001b[34mdplyr\u001b[39m::\u001b[32mlag()\u001b[39m    masks \u001b[34mstats\u001b[39m::lag()\n",
      "Loading required package: Rcpp\n",
      "\n",
      "## \n",
      "## Amelia II: Multiple Imputation\n",
      "## (Version 1.8.0, built: 2021-05-26)\n",
      "## Copyright (C) 2005-2023 James Honaker, Gary King and Matthew Blackwell\n",
      "## Refer to http://gking.harvard.edu/amelia/ for more information\n",
      "## \n",
      "\n"
     ]
    }
   ],
   "source": [
    "library(tidyverse)\n",
    "library(Amelia)"
   ]
  },
  {
   "cell_type": "code",
   "execution_count": null,
   "metadata": {
    "scrolled": true,
    "vscode": {
     "languageId": "r"
    }
   },
   "outputs": [],
   "source": [
    "df = read.csv(\"../data/train.csv\", header = TRUE)\n",
    "head(df)\n",
    "str(df)"
   ]
  },
  {
   "cell_type": "markdown",
   "metadata": {},
   "source": [
    "En el dataset del train se tienen 8693 observaciones y 14 variables, de las \n",
    "cuales 8 están formadas por strings y el resto son numéricas. Algunas de las variables formadas por caracteres (como las buleanas de 'True' o 'False') corresponderán a factores como se observará durante el desarrollo de este documento. En principio se dejarán codificadas así teniendo en cuenta esto.   "
   ]
  },
  {
   "cell_type": "code",
   "execution_count": null,
   "metadata": {
    "vscode": {
     "languageId": "r"
    }
   },
   "outputs": [],
   "source": [
    "sum(duplicated(df))"
   ]
  },
  {
   "cell_type": "markdown",
   "metadata": {},
   "source": [
    "Además, no se encuentran observaciones duplicadas."
   ]
  },
  {
   "cell_type": "markdown",
   "metadata": {},
   "source": [
    "# Recodificación de variables\n",
    "Para comenzar, se recodifican algunas de las variables expuestas y se crean otras\n",
    "que pueden resultar de importancia.\n",
    "## Recodificación de la variable ```cabin``` \n",
    "La variable ```Cabin```, con el formato *deck/num/side* se dividide en \n",
    "tres variables diferentes: ```Cabin_deck```, ```Cabin_num``` y ```Cabin_side```, ya que así puede aportar mayor información."
   ]
  },
  {
   "cell_type": "code",
   "execution_count": null,
   "metadata": {
    "vscode": {
     "languageId": "r"
    }
   },
   "outputs": [],
   "source": [
    "cabin_splitted = str_split(df$Cabin, '/', simplify = TRUE)\n",
    "#id_splitted = str_split(df$PassengerId, '_', simplify = TRUE)"
   ]
  },
  {
   "cell_type": "code",
   "execution_count": null,
   "metadata": {
    "vscode": {
     "languageId": "r"
    }
   },
   "outputs": [],
   "source": [
    "#colnames(id_splitted) = c('group_id','personal_id')\n",
    "#head(id_splitted)"
   ]
  },
  {
   "cell_type": "markdown",
   "metadata": {},
   "source": [
    "Se comprueban los distintos valores que toman estas nuevas variables:"
   ]
  },
  {
   "cell_type": "code",
   "execution_count": null,
   "metadata": {
    "vscode": {
     "languageId": "r"
    }
   },
   "outputs": [],
   "source": [
    "table(cabin_splitted[, 1])#Cabin deck"
   ]
  },
  {
   "cell_type": "code",
   "execution_count": null,
   "metadata": {
    "vscode": {
     "languageId": "r"
    }
   },
   "outputs": [],
   "source": [
    "length(unique(cabin_splitted[,2]))#Cabin_num"
   ]
  },
  {
   "cell_type": "code",
   "execution_count": null,
   "metadata": {
    "vscode": {
     "languageId": "r"
    }
   },
   "outputs": [],
   "source": [
    "table(cabin_splitted[, 3])#Cabin_side"
   ]
  },
  {
   "cell_type": "code",
   "execution_count": null,
   "metadata": {
    "vscode": {
     "languageId": "r"
    }
   },
   "outputs": [],
   "source": [
    "df = df %>% mutate(Cabin_deck = cabin_splitted[, 1], \n",
    "                   Cabin_num = as.integer(cabin_splitted[, 2]), \n",
    "                   Cabin_side = cabin_splitted[, 3]) %>% select(-Cabin)\n",
    "head(df)"
   ]
  },
  {
   "cell_type": "markdown",
   "metadata": {},
   "source": [
    "Se puede apreciar que Cabin_deck y Cabin_side contienen algunos valores iguales a caracteres vacíos, estos son valores \n",
    "perdidos que serán tratados más adelante. \n",
    "\n",
    "## Creación de la variable ```Alone```\n",
    "También, la variable ```PassengerId``` en el formato *gggg_pp* puede indicar si los \n",
    "pasajeros viajaban solos o en grupo, lo cual puede ser de interés saberlo. Se crea una variable que indique esto:"
   ]
  },
  {
   "cell_type": "code",
   "execution_count": null,
   "metadata": {
    "vscode": {
     "languageId": "r"
    }
   },
   "outputs": [],
   "source": [
    "df = df %>% mutate(Group = (str_split(PassengerId, '_', simplify = TRUE))[,1])\n",
    "vector_group = df %>% count(Group) %>% filter(n > 1)\n",
    "vector_group = vector_group$Group\n",
    "df = df %>% mutate(Alone = ifelse(Group %in% vector_group, \"False\", \"True\")) %>% select(-Group)"
   ]
  },
  {
   "cell_type": "code",
   "execution_count": null,
   "metadata": {
    "vscode": {
     "languageId": "r"
    }
   },
   "outputs": [],
   "source": [
    "head(df)"
   ]
  },
  {
   "cell_type": "code",
   "execution_count": null,
   "metadata": {
    "vscode": {
     "languageId": "r"
    }
   },
   "outputs": [],
   "source": [
    "df %>% count(Alone)"
   ]
  },
  {
   "cell_type": "markdown",
   "metadata": {},
   "source": [
    "# Valores perdidos o *Missing values*\n",
    "Una vez recodificadas las variables para entender mejor los datos, se procede a \n",
    "estudiar los valores perdidos del dataset ```train.csv```."
   ]
  },
  {
   "cell_type": "code",
   "execution_count": null,
   "metadata": {
    "vscode": {
     "languageId": "r"
    }
   },
   "outputs": [],
   "source": [
    "missmap(df)"
   ]
  },
  {
   "cell_type": "markdown",
   "metadata": {},
   "source": [
    "En las variables numéricas se pueden observar missing values. Por otro lado, en las variables formadas por strings puede que los missing values estén indicadas con un valor distinto a NA."
   ]
  },
  {
   "cell_type": "code",
   "execution_count": null,
   "metadata": {
    "vscode": {
     "languageId": "r"
    }
   },
   "outputs": [],
   "source": [
    "print(table(df$HomePlanet))\n",
    "print(table(df$Destination))\n",
    "print(table(df$CryoSleep))\n",
    "print(table(df$VIP))"
   ]
  },
  {
   "cell_type": "markdown",
   "metadata": {},
   "source": [
    "Como se pudo observar con la variable ```Cabin```, los valores perdidos parecen \n",
    "estar registrados como caracteres vacíos, los convertimos en ```NA```:"
   ]
  },
  {
   "cell_type": "code",
   "execution_count": null,
   "metadata": {
    "vscode": {
     "languageId": "r"
    }
   },
   "outputs": [],
   "source": [
    "df$Cabin_deck[df$Cabin_deck == \"\"] = NA\n",
    "df$Cabin_num[df$Cabin_num == \"\"] = NA\n",
    "df$Cabin_side[df$Cabin_side == \"\"] = NA\n",
    "df$HomePlanet[df$HomePlanet == \"\"] = NA\n",
    "df$Destination[df$Destination == \"\"] = NA\n",
    "df$CryoSleep[df$CryoSleep == \"\"] = NA\n",
    "df$VIP[df$VIP == \"\"] = NA"
   ]
  },
  {
   "cell_type": "code",
   "execution_count": null,
   "metadata": {
    "vscode": {
     "languageId": "r"
    }
   },
   "outputs": [],
   "source": [
    "missmap(df)"
   ]
  },
  {
   "cell_type": "markdown",
   "metadata": {},
   "source": [
    "En total, los valores perdidos no suponen un gran porcentaje del dataset \n",
    "completo, por lo que se evalúa cuantas instancias eliminaríamos de borrar \n",
    "aquellas con algún valor perdido:"
   ]
  },
  {
   "cell_type": "code",
   "execution_count": null,
   "metadata": {
    "vscode": {
     "languageId": "r"
    }
   },
   "outputs": [],
   "source": [
    "# Porcentaje de filas incompletas\n",
    "sum(!complete.cases(df))/nrow(df)"
   ]
  },
  {
   "cell_type": "markdown",
   "metadata": {},
   "source": [
    "De eliminar estas filas, eliminaríamos el $22\\%$ de los datos, por lo que \n",
    "se descarta esta opción. Una imputación es necesaria."
   ]
  },
  {
   "cell_type": "markdown",
   "metadata": {},
   "source": [
    "Ahora se pasa al tratamiento de los missing values para los atributos categóricos primero, y luego para los atributos numéricos. \n",
    "\n",
    "## Missing values categóricos\n",
    "Como método de imputación general, se le asignará a cada ```NA``` la **moda** de su atributo:"
   ]
  },
  {
   "cell_type": "code",
   "execution_count": null,
   "metadata": {
    "vscode": {
     "languageId": "r"
    }
   },
   "outputs": [],
   "source": [
    "mode_hp = (df %>% group_by(HomePlanet) %>% summarize(n = n()) %>% na.omit %>% top_n(1))$HomePlanet\n",
    "mode_cabin_deck = (df %>% group_by(Cabin_deck) %>% summarize(n = n()) %>% na.omit %>% top_n(1))$Cabin_deck\n",
    "mode_cabin_side = (df %>% group_by(Cabin_side) %>% summarize(n = n()) %>% na.omit %>% top_n(1))$Cabin_side\n",
    "mode_dest = (df %>% group_by(Destination) %>% summarize(n = n()) %>% na.omit %>% top_n(1))$Destination\n",
    "mode_cs = (df %>% group_by(CryoSleep) %>% summarize(n = n()) %>% na.omit %>% top_n(1))$CryoSleep\n",
    "mode_vip = (df %>% group_by(VIP) %>% summarize(n = n()) %>% na.omit %>% top_n(1))$VIP\n"
   ]
  },
  {
   "cell_type": "code",
   "execution_count": null,
   "metadata": {
    "vscode": {
     "languageId": "r"
    }
   },
   "outputs": [],
   "source": [
    "df_mode = data.frame(mode_hp = mode_hp, mode_cabin_deck = mode_cabin_deck, mode_cabin_side = mode_cabin_side, mode_cs = mode_cs, mode_vip = mode_vip, mode_dest = mode_dest)\n",
    "df_mode\n",
    "write.csv(df_mode,'../data/modes.csv', row.names = FALSE)"
   ]
  },
  {
   "cell_type": "code",
   "execution_count": null,
   "metadata": {
    "vscode": {
     "languageId": "r"
    }
   },
   "outputs": [],
   "source": [
    "df_imputed = data.frame(df)"
   ]
  },
  {
   "cell_type": "code",
   "execution_count": null,
   "metadata": {
    "vscode": {
     "languageId": "r"
    }
   },
   "outputs": [],
   "source": [
    "df_imputed$Cabin_deck[is.na(df_imputed$Cabin_deck)] = mode_cabin_deck\n",
    "df_imputed$Cabin_side[is.na(df_imputed$Cabin_side)] = mode_cabin_side\n",
    "df_imputed$HomePlanet[is.na(df_imputed$HomePlanet)] = mode_hp\n",
    "df_imputed$Destination[is.na(df_imputed$Destination)] = mode_dest\n",
    "df_imputed$VIP[is.na(df_imputed$VIP)] = mode_vip"
   ]
  },
  {
   "cell_type": "markdown",
   "metadata": {},
   "source": [
    "Sin embargo, llama la atención el atributo ```CryoSleep```. Se observa que, en \n",
    "los casos donde sus variables numéricas (correspondientes a los gastos) son \n",
    "nulas, hay valores perdidos también:"
   ]
  },
  {
   "cell_type": "code",
   "execution_count": null,
   "metadata": {
    "scrolled": false,
    "vscode": {
     "languageId": "r"
    }
   },
   "outputs": [],
   "source": [
    "df_imputed %>% filter(RoomService==0,FoodCourt == 0, ShoppingMall == 0, Spa == 0,\n",
    "                     VRDeck == 0) %>% count(CryoSleep)"
   ]
  },
  {
   "cell_type": "markdown",
   "metadata": {},
   "source": [
    "En concreto hay 87 valores perdidos, 2690 casos donde esto se cumple y 470 donde \n",
    "no. Dado que la mayoría de pasajeros que no han gastado dinero en el viaje son \n",
    "personas en animación suspendida, se imputan estos 87 valores perdidos como \n",
    "```CryoSleep = 'True'```."
   ]
  },
  {
   "cell_type": "code",
   "execution_count": null,
   "metadata": {
    "vscode": {
     "languageId": "r"
    }
   },
   "outputs": [],
   "source": [
    "cs_idTrue = df_imputed %>% filter(is.na(CryoSleep),RoomService==0,\n",
    "                                  FoodCourt == 0, ShoppingMall == 0, Spa == 0,\n",
    "                                  VRDeck == 0) %>% select(PassengerId)\n",
    "\n",
    "df_imputed[df_imputed$PassengerId %in% cs_idTrue[,1],]$CryoSleep = 'True'"
   ]
  },
  {
   "cell_type": "markdown",
   "metadata": {},
   "source": [
    "Por el contrario, si alguno de los gastos es distinto de cero, se podría \n",
    "considerar que el pasajero no está en animación suspendida:"
   ]
  },
  {
   "cell_type": "code",
   "execution_count": null,
   "metadata": {
    "vscode": {
     "languageId": "r"
    }
   },
   "outputs": [],
   "source": [
    "df_imputed %>% filter(RoomService!=0 | FoodCourt != 0 | ShoppingMall != 0 | Spa != 0 |\n",
    "                     VRDeck != 0) %>% count(CryoSleep)"
   ]
  },
  {
   "cell_type": "markdown",
   "metadata": {},
   "source": [
    "En efecto, todas las personas que han tenido algún gasto en la nave no están en \n",
    "animación suspendida a excepción de los valores perdidos. Los imputamos como \n",
    "```CryoSleep = 'False'```:"
   ]
  },
  {
   "cell_type": "code",
   "execution_count": null,
   "metadata": {
    "vscode": {
     "languageId": "r"
    }
   },
   "outputs": [],
   "source": [
    "cs_idFalse = df_imputed %>% filter(is.na(CryoSleep), (RoomService!=0 | FoodCourt != 0 | ShoppingMall != 0 | Spa != 0 |\n",
    "                     VRDeck != 0)) %>% select(PassengerId) "
   ]
  },
  {
   "cell_type": "code",
   "execution_count": null,
   "metadata": {
    "scrolled": true,
    "vscode": {
     "languageId": "r"
    }
   },
   "outputs": [],
   "source": [
    "df_imputed[df_imputed$PassengerId %in% cs_idFalse[,1],]$CryoSleep = 'False'"
   ]
  },
  {
   "cell_type": "code",
   "execution_count": null,
   "metadata": {
    "scrolled": true,
    "vscode": {
     "languageId": "r"
    }
   },
   "outputs": [],
   "source": [
    "df_imputed %>% filter(is.na(CryoSleep))"
   ]
  },
  {
   "cell_type": "markdown",
   "metadata": {},
   "source": [
    "Pero sigue habiendo 11 valores perdidos en CryoSleep en los casos donde \n",
    "alguno de los gastos es ```NA``` y el resto cero. Se comprueba que valores de CryoSleep suelen tener estos casos:"
   ]
  },
  {
   "cell_type": "code",
   "execution_count": null,
   "metadata": {
    "vscode": {
     "languageId": "r"
    }
   },
   "outputs": [],
   "source": [
    "df_imputed %>% filter((is.na(RoomService) | RoomService == 0),\n",
    "                      (is.na(FoodCourt) | FoodCourt == 0), \n",
    "                      (is.na(Spa) | Spa == 0), \n",
    "                      (is.na(ShoppingMall) | ShoppingMall == 0), \n",
    "                      (is.na(VRDeck) | VRDeck == 0)) %>%\n",
    "               mutate(total_expenses = RoomService + FoodCourt + Spa + ShoppingMall + VRDeck) %>%\n",
    "               filter(is.na(total_expenses)) %>% count(CryoSleep)"
   ]
  },
  {
   "cell_type": "markdown",
   "metadata": {},
   "source": [
    "Imputamos estos casos como ```CryoSleep = 'True'```, dado que es extraño que \n",
    "los pasajeros solo gasten en uno de los servicios y que justo ese sea un valor \n",
    "perdido también:"
   ]
  },
  {
   "cell_type": "code",
   "execution_count": null,
   "metadata": {
    "vscode": {
     "languageId": "r"
    }
   },
   "outputs": [],
   "source": [
    "cs_idTrue_NAnum = df_imputed %>% filter(is.na(CryoSleep)) %>% select(PassengerId)"
   ]
  },
  {
   "cell_type": "code",
   "execution_count": null,
   "metadata": {
    "vscode": {
     "languageId": "r"
    }
   },
   "outputs": [],
   "source": [
    "df_imputed[df_imputed$PassengerId %in% cs_idTrue_NAnum[,1],]$CryoSleep = 'True'"
   ]
  },
  {
   "cell_type": "code",
   "execution_count": null,
   "metadata": {
    "scrolled": true,
    "vscode": {
     "languageId": "r"
    }
   },
   "outputs": [],
   "source": [
    "df_imputed %>% count(CryoSleep)"
   ]
  },
  {
   "cell_type": "markdown",
   "metadata": {},
   "source": [
    "## Missing values numéricos\n",
    "Procedemos ahora con los valores perdidos numéricos."
   ]
  },
  {
   "cell_type": "code",
   "execution_count": null,
   "metadata": {
    "vscode": {
     "languageId": "r"
    }
   },
   "outputs": [],
   "source": [
    "missmap(df_imputed)"
   ]
  },
  {
   "cell_type": "markdown",
   "metadata": {},
   "source": [
    "Comenzamos con los casos donde alguno de los gastos es un valor perdido, el \n",
    "resto son cero y están en animación suspendida:"
   ]
  },
  {
   "cell_type": "code",
   "execution_count": null,
   "metadata": {
    "vscode": {
     "languageId": "r"
    }
   },
   "outputs": [],
   "source": [
    "df_imputed %>% filter(CryoSleep == \"True\", (is.na(RoomService) | is.na(VRDeck) | is.na(Spa) | is.na(ShoppingMall) | is.na(FoodCourt))) %>%\n",
    "                  mutate(total_expenses = RoomService + FoodCourt + Spa + ShoppingMall + VRDeck) %>%\n",
    "                  filter(is.na(total_expenses)) %>% head()"
   ]
  },
  {
   "cell_type": "markdown",
   "metadata": {},
   "source": [
    "Como mencionamos anteriormente, las personas en animación suspendida no han \n",
    "podido tener gastos, por lo que estos valores perdidos deben ser cero:"
   ]
  },
  {
   "cell_type": "code",
   "execution_count": null,
   "metadata": {
    "scrolled": true,
    "vscode": {
     "languageId": "r"
    }
   },
   "outputs": [],
   "source": [
    "expenses_IdZero_RoomService = df_imputed %>% filter(CryoSleep == \"True\", is.na(RoomService)) %>% select(PassengerId)\n",
    "expenses_IdZero_VRDeck = df_imputed %>% filter(CryoSleep == \"True\", is.na(VRDeck)) %>% select(PassengerId)\n",
    "expenses_IdZero_Spa = df_imputed %>% filter(CryoSleep == \"True\", is.na(Spa)) %>% select(PassengerId)\n",
    "expenses_IdZero_ShoppingMall = df_imputed %>% filter(CryoSleep == \"True\", is.na(ShoppingMall)) %>% select(PassengerId)\n",
    "expenses_IdZero_FoodCourt = df_imputed %>% filter(CryoSleep == \"True\", is.na(FoodCourt)) %>% select(PassengerId)"
   ]
  },
  {
   "cell_type": "code",
   "execution_count": null,
   "metadata": {
    "vscode": {
     "languageId": "r"
    }
   },
   "outputs": [],
   "source": [
    "df_imputed[df_imputed$PassengerId %in% expenses_IdZero_RoomService[,1],]$RoomService = 0\n",
    "df_imputed[df_imputed$PassengerId %in% expenses_IdZero_VRDeck[,1],]$VRDeck = 0\n",
    "df_imputed[df_imputed$PassengerId %in% expenses_IdZero_Spa[,1],]$Spa = 0\n",
    "df_imputed[df_imputed$PassengerId %in% expenses_IdZero_ShoppingMall[,1],]$ShoppingMall = 0\n",
    "df_imputed[df_imputed$PassengerId %in% expenses_IdZero_FoodCourt[,1],]$FoodCourt = 0"
   ]
  },
  {
   "cell_type": "code",
   "execution_count": null,
   "metadata": {
    "vscode": {
     "languageId": "r"
    }
   },
   "outputs": [],
   "source": [
    "missmap(df_imputed)"
   ]
  },
  {
   "cell_type": "markdown",
   "metadata": {},
   "source": [
    "Comprobamos los casos donde ```CryoSleep = 'False'``` y hay algún valor \n",
    "perdido en los gastos:"
   ]
  },
  {
   "cell_type": "code",
   "execution_count": null,
   "metadata": {
    "scrolled": true,
    "vscode": {
     "languageId": "r"
    }
   },
   "outputs": [],
   "source": [
    "df_imputed %>% filter(CryoSleep == \"False\", (is.na(RoomService) | is.na(VRDeck) |\n",
    "                      is.na(Spa) | is.na(ShoppingMall) | is.na(FoodCourt))) %>% \n",
    "                      head()"
   ]
  },
  {
   "cell_type": "markdown",
   "metadata": {},
   "source": [
    "En estas observaciones, dada las distribuciones de las variables que se mostrarán en el siguiente apartado, lo más adecuado es imputar\n",
    "los ```NA``` por las medianas de sus atributos:"
   ]
  },
  {
   "cell_type": "code",
   "execution_count": null,
   "metadata": {
    "vscode": {
     "languageId": "r"
    }
   },
   "outputs": [],
   "source": [
    "expenses_IdMedian_RoomService = df_imputed %>% filter(CryoSleep == \"False\", is.na(RoomService)) %>% select(PassengerId)\n",
    "expenses_IdMedian_VRDeck = df_imputed %>% filter(CryoSleep == \"False\", is.na(VRDeck)) %>% select(PassengerId)\n",
    "expenses_IdMedian_Spa = df_imputed %>% filter(CryoSleep == \"False\", is.na(Spa)) %>% select(PassengerId)\n",
    "expenses_IdMedian_ShoppingMall = df_imputed %>% filter(CryoSleep == \"False\", is.na(ShoppingMall)) %>% select(PassengerId)\n",
    "expenses_IdMedian_FoodCourt = df_imputed %>% filter(CryoSleep == \"False\", is.na(FoodCourt)) %>% select(PassengerId)"
   ]
  },
  {
   "cell_type": "code",
   "execution_count": null,
   "metadata": {
    "vscode": {
     "languageId": "r"
    }
   },
   "outputs": [],
   "source": [
    "vd_median = median(df_imputed$VRDeck, na.rm = TRUE)\n",
    "spa_median = median(df_imputed$Spa, na.rm = TRUE)\n",
    "sm_median = median(df_imputed$ShoppingMall, na.rm = TRUE)\n",
    "fc_median = median(df_imputed$FoodCourt, na.rm = TRUE)\n",
    "rs_median = median(df_imputed$RoomService, na.rm = TRUE)\n",
    "age_median = median(df_imputed$Age, na.rm = TRUE)\n",
    "\n",
    "df_imputed[df_imputed$PassengerId %in% expenses_IdMedian_RoomService[,1],]$RoomService = rs_median\n",
    "df_imputed[df_imputed$PassengerId %in% expenses_IdMedian_VRDeck[,1],]$VRDeck = vd_median\n",
    "df_imputed[df_imputed$PassengerId %in% expenses_IdMedian_Spa[,1],]$Spa = spa_median\n",
    "df_imputed[df_imputed$PassengerId %in% expenses_IdMedian_ShoppingMall[,1],]$ShoppingMall = sm_median\n",
    "df_imputed[df_imputed$PassengerId %in% expenses_IdMedian_FoodCourt[,1],]$FoodCourt = fc_median"
   ]
  },
  {
   "cell_type": "code",
   "execution_count": null,
   "metadata": {
    "vscode": {
     "languageId": "r"
    }
   },
   "outputs": [],
   "source": [
    "df_median = data.frame(rs_median = rs_median, vd_median = vd_median, spa_median = spa_median, sm_median = sm_median, fc_median = fc_median, age_median = age_median)\n",
    "df_median\n",
    "write.csv(df_median,'../data/median.csv', row.names = FALSE)"
   ]
  },
  {
   "cell_type": "code",
   "execution_count": null,
   "metadata": {
    "vscode": {
     "languageId": "r"
    }
   },
   "outputs": [],
   "source": [
    "missmap(df_imputed)"
   ]
  },
  {
   "cell_type": "markdown",
   "metadata": {},
   "source": [
    "La edad, dado también su distribución de valores, se imputa por la mediana."
   ]
  },
  {
   "cell_type": "code",
   "execution_count": null,
   "metadata": {
    "vscode": {
     "languageId": "r"
    }
   },
   "outputs": [],
   "source": [
    "df_imputed[is.na(df_imputed$Age), ]$Age = age_median"
   ]
  },
  {
   "cell_type": "code",
   "execution_count": null,
   "metadata": {
    "scrolled": false,
    "vscode": {
     "languageId": "r"
    }
   },
   "outputs": [],
   "source": [
    "missmap(df_imputed)"
   ]
  },
  {
   "cell_type": "markdown",
   "metadata": {},
   "source": [
    "Queda la variable Cabin_num. Sin embargo esta variable parece ser demasiado específica para cada instancia y que no tenga correlación con la variable de salida transported. "
   ]
  },
  {
   "cell_type": "markdown",
   "metadata": {},
   "source": [
    "## Outliers univariables"
   ]
  },
  {
   "cell_type": "code",
   "execution_count": null,
   "metadata": {},
   "outputs": [],
   "source": [
    "df_imputed.IQR <- df_imputed %>% select(-Cabin_num) %>% select_if(is.numeric) %>% apply(2, IQR)\n",
    "df_imputed.Quartiles <- df_imputed %>% select(-Cabin_num) %>% select_if(is.numeric) %>% apply(2, quantile,c(0.25,0.75))\n",
    "Upper.limit <- df_imputed.Quartiles[2,]+1.5*df_imputed.IQR\n",
    "Upper.limit"
   ]
  },
  {
   "cell_type": "code",
   "execution_count": null,
   "metadata": {},
   "outputs": [],
   "source": [
    "df_imputed %>% filter(RoomService<Upper.limit['RoomService'], FoodCourt<Upper.limit['FoodCourt'],\n",
    "                      ShoppingMall<Upper.limit['ShoppingMall'], Spa<Upper.limit['Spa'], \n",
    "                      VRDeck<Upper.limit['VRDeck']) %>% nrow()"
   ]
  },
  {
   "cell_type": "markdown",
   "metadata": {},
   "source": [
    "## Análisis univariable"
   ]
  },
  {
   "cell_type": "code",
   "execution_count": null,
   "metadata": {
    "vscode": {
     "languageId": "r"
    }
   },
   "outputs": [],
   "source": [
    "head(df_imputed)"
   ]
  },
  {
   "cell_type": "code",
   "execution_count": null,
   "metadata": {
    "vscode": {
     "languageId": "r"
    }
   },
   "outputs": [],
   "source": [
    "ggplot(df_imputed, aes(x = Transported)) +\n",
    "    geom_bar()"
   ]
  },
  {
   "cell_type": "code",
   "execution_count": null,
   "metadata": {
    "vscode": {
     "languageId": "r"
    }
   },
   "outputs": [],
   "source": [
    "ggplot(df_imputed, aes(x = HomePlanet)) +\n",
    "    geom_bar()"
   ]
  },
  {
   "cell_type": "code",
   "execution_count": null,
   "metadata": {
    "vscode": {
     "languageId": "r"
    }
   },
   "outputs": [],
   "source": [
    "ggplot(df_imputed, aes(x = CryoSleep)) +\n",
    "    geom_bar()"
   ]
  },
  {
   "cell_type": "code",
   "execution_count": null,
   "metadata": {
    "vscode": {
     "languageId": "r"
    }
   },
   "outputs": [],
   "source": [
    "ggplot(df_imputed, aes(x = VIP)) +\n",
    "    geom_bar()"
   ]
  },
  {
   "cell_type": "code",
   "execution_count": null,
   "metadata": {
    "vscode": {
     "languageId": "r"
    }
   },
   "outputs": [],
   "source": [
    "ggplot(df_imputed, aes(x = Destination)) +\n",
    "    geom_bar()"
   ]
  },
  {
   "cell_type": "code",
   "execution_count": null,
   "metadata": {
    "vscode": {
     "languageId": "r"
    }
   },
   "outputs": [],
   "source": [
    "ggplot(df_imputed, aes(x = Cabin_deck)) +\n",
    "    geom_bar()"
   ]
  },
  {
   "cell_type": "code",
   "execution_count": null,
   "metadata": {
    "vscode": {
     "languageId": "r"
    }
   },
   "outputs": [],
   "source": [
    "ggplot(df_imputed, aes(x = Cabin_side)) +\n",
    "    geom_bar()"
   ]
  },
  {
   "cell_type": "code",
   "execution_count": null,
   "metadata": {
    "vscode": {
     "languageId": "r"
    }
   },
   "outputs": [],
   "source": [
    "df_imputed %>% pivot_longer(cols = c(\"RoomService\", \"Spa\", \"FoodCourt\", \"VRDeck\", \"ShoppingMall\")) %>%\n",
    "               ggplot(., aes(x = value)) +\n",
    "                geom_density() +\n",
    "                facet_wrap(~name, scale = \"free\")"
   ]
  },
  {
   "cell_type": "code",
   "execution_count": null,
   "metadata": {
    "vscode": {
     "languageId": "r"
    }
   },
   "outputs": [],
   "source": [
    "ggplot(df_imputed, aes(x = Age)) +\n",
    "    geom_density()"
   ]
  },
  {
   "cell_type": "markdown",
   "metadata": {},
   "source": [
    "## Análisis multivariable"
   ]
  },
  {
   "cell_type": "code",
   "execution_count": null,
   "metadata": {
    "vscode": {
     "languageId": "r"
    }
   },
   "outputs": [],
   "source": [
    "df_imputed %>% filter(RoomService > 10000 | Spa > 10000 | \n",
    "                      FoodCourt > 10000 | VRDeck > 10000 |\n",
    "                      ShoppingMall > 10000 ) %>% count(Cabin_deck)\n",
    "                    "
   ]
  },
  {
   "cell_type": "code",
   "execution_count": null,
   "metadata": {
    "vscode": {
     "languageId": "r"
    }
   },
   "outputs": [],
   "source": [
    "ggplot(df_imputed, aes(x = CryoSleep, fill = CryoSleep)) +\n",
    "    geom_bar() +\n",
    "    facet_wrap(~Transported)"
   ]
  },
  {
   "cell_type": "markdown",
   "metadata": {},
   "source": [
    "Se puede ver que si no fuiste transportado seguramente no estabas en CryoSleep. Sin embargo, esta regla de asociación en el sentido contrario no se cumple. la cual hubiera sido interesante para clasificación."
   ]
  },
  {
   "cell_type": "code",
   "execution_count": null,
   "metadata": {
    "vscode": {
     "languageId": "r"
    }
   },
   "outputs": [],
   "source": [
    "ggplot(df_imputed, aes(x = HomePlanet, fill=Transported)) +\n",
    "    geom_bar(color='black', alpha=0.5, position='dodge')\n",
    "\n",
    "library(vcd)\n",
    "mosaic(~ HomePlanet + Transported, data = df_imputed,shade=T)"
   ]
  },
  {
   "cell_type": "markdown",
   "metadata": {},
   "source": [
    "No hay dependencia clara con el país de origen para Marte. En el caso de Europa y La Tierra si hay un desvalance entre transportados y no transportados."
   ]
  },
  {
   "cell_type": "code",
   "execution_count": null,
   "metadata": {
    "vscode": {
     "languageId": "r"
    }
   },
   "outputs": [],
   "source": [
    "ggplot(df_imputed, aes(x = Transported, fill = Transported)) +\n",
    "    geom_bar() +\n",
    "    facet_wrap(~VIP)"
   ]
  },
  {
   "cell_type": "markdown",
   "metadata": {},
   "source": [
    "No parece haber una discriminación en los transportados si pertenece el pasajero a VIP."
   ]
  },
  {
   "cell_type": "code",
   "execution_count": null,
   "metadata": {
    "vscode": {
     "languageId": "r"
    }
   },
   "outputs": [],
   "source": [
    "ggplot(df_imputed, aes(x = Destination, fill=Transported)) +\n",
    "    geom_bar(color='black', alpha=0.5, position='dodge')"
   ]
  },
  {
   "cell_type": "code",
   "execution_count": null,
   "metadata": {
    "vscode": {
     "languageId": "r"
    }
   },
   "outputs": [],
   "source": [
    "ggplot(df_imputed, aes(x = Cabin_deck, fill=Transported)) +\n",
    "    geom_bar(color='black', alpha=0.5, position='dodge')"
   ]
  },
  {
   "cell_type": "code",
   "execution_count": null,
   "metadata": {
    "vscode": {
     "languageId": "r"
    }
   },
   "outputs": [],
   "source": [
    "ggplot(df_imputed, aes(x = Alone, fill=Transported)) +\n",
    "    geom_bar(color='black', alpha=0.5, position='dodge')\n",
    "\n",
    "mosaic(~ Transported + Alone, data = df_imputed,shade=T)"
   ]
  },
  {
   "cell_type": "code",
   "execution_count": null,
   "metadata": {
    "vscode": {
     "languageId": "r"
    }
   },
   "outputs": [],
   "source": [
    "ggplot(df_imputed, aes(x = Age, fill=Transported)) +\n",
    "    geom_density(alpha=0.4)# +\n",
    "    #facet_wrap(~Transported)"
   ]
  },
  {
   "cell_type": "markdown",
   "metadata": {},
   "source": [
    "Parece observarse que los niños menores de 10 años son más transportados que no transportados."
   ]
  },
  {
   "cell_type": "code",
   "execution_count": null,
   "metadata": {},
   "outputs": [],
   "source": [
    "ggplot(df_imputed %>% filter(RoomService<3000), aes(x = RoomService, fill=Transported)) +\n",
    "    geom_density(alpha=0.4)"
   ]
  },
  {
   "cell_type": "code",
   "execution_count": null,
   "metadata": {
    "vscode": {
     "languageId": "r"
    }
   },
   "outputs": [],
   "source": [
    "ggplot(df_imputed, aes(y = RoomService, fill = Transported)) +\n",
    "    geom_boxplot() +\n",
    "    facet_wrap(~Transported)"
   ]
  },
  {
   "cell_type": "code",
   "execution_count": null,
   "metadata": {
    "vscode": {
     "languageId": "r"
    }
   },
   "outputs": [],
   "source": [
    "df_imputed %>% filter(RoomService > 5e3)"
   ]
  },
  {
   "cell_type": "markdown",
   "metadata": {},
   "source": [
    "Los transported igual a True tienen un RoomService más concentrados en 0."
   ]
  },
  {
   "cell_type": "code",
   "execution_count": null,
   "metadata": {
    "vscode": {
     "languageId": "r"
    }
   },
   "outputs": [],
   "source": [
    "ggplot(df_imputed, aes(x = FoodCourt, fill = Transported)) +\n",
    "    geom_boxplot() +\n",
    "    coord_flip() +\n",
    "    facet_wrap(~Transported)"
   ]
  },
  {
   "cell_type": "code",
   "execution_count": null,
   "metadata": {
    "scrolled": false,
    "vscode": {
     "languageId": "r"
    }
   },
   "outputs": [],
   "source": [
    "df_imputed %>% filter(FoodCourt > 20e3)\n",
    "df_imputed %>% filter(FoodCourt > 5e3) %>% group_by(HomePlanet) %>% \n",
    "    summarise(n = n())"
   ]
  },
  {
   "cell_type": "code",
   "execution_count": null,
   "metadata": {
    "vscode": {
     "languageId": "r"
    }
   },
   "outputs": [],
   "source": [
    "ggplot(df_imputed, aes(x = Spa, fill = Transported)) +\n",
    "    geom_boxplot() +\n",
    "    coord_flip() +\n",
    "    facet_wrap(~Transported)"
   ]
  },
  {
   "cell_type": "code",
   "execution_count": null,
   "metadata": {
    "vscode": {
     "languageId": "r"
    }
   },
   "outputs": [],
   "source": [
    "df_imputed %>% filter(Spa > 15e3)\n",
    "df_imputed %>% filter(Spa > 10e3) %>% group_by(HomePlanet) %>% \n",
    "    summarise(n = n())"
   ]
  },
  {
   "cell_type": "code",
   "execution_count": null,
   "metadata": {
    "vscode": {
     "languageId": "r"
    }
   },
   "outputs": [],
   "source": [
    "ggplot(df_imputed, aes(x = VRDeck, fill = Transported)) +\n",
    "    geom_boxplot() +\n",
    "    coord_flip() +\n",
    "    facet_wrap(~Transported)"
   ]
  },
  {
   "cell_type": "code",
   "execution_count": null,
   "metadata": {
    "vscode": {
     "languageId": "r"
    }
   },
   "outputs": [],
   "source": [
    "df_imputed %>% filter(VRDeck > 15e3)\n",
    "df_imputed %>% filter(VRDeck > 10e3) %>% group_by(HomePlanet) %>% \n",
    "    summarise(n = n())"
   ]
  },
  {
   "cell_type": "code",
   "execution_count": null,
   "metadata": {
    "vscode": {
     "languageId": "r"
    }
   },
   "outputs": [],
   "source": [
    "ggplot(df_imputed, aes(x = ShoppingMall, fill = Transported)) +\n",
    "    geom_boxplot() +\n",
    "    coord_flip() +\n",
    "    facet_wrap(~Transported)"
   ]
  },
  {
   "cell_type": "code",
   "execution_count": null,
   "metadata": {
    "vscode": {
     "languageId": "r"
    }
   },
   "outputs": [],
   "source": [
    "df_imputed %>% filter(ShoppingMall > 10e3)\n",
    "df_imputed %>% filter(ShoppingMall > 10e3) %>% group_by(HomePlanet) %>% \n",
    "    summarise(n = n())"
   ]
  },
  {
   "cell_type": "code",
   "execution_count": null,
   "metadata": {
    "vscode": {
     "languageId": "r"
    }
   },
   "outputs": [],
   "source": [
    "ggplot(df_imputed %>% mutate(total_expenses = RoomService + FoodCourt + Spa + ShoppingMall + VRDeck), aes(x = total_expenses, fill = VIP)) +\n",
    "    geom_boxplot() +\n",
    "    coord_flip() +\n",
    "    facet_wrap(~VIP)"
   ]
  },
  {
   "cell_type": "code",
   "execution_count": null,
   "metadata": {
    "vscode": {
     "languageId": "r"
    }
   },
   "outputs": [],
   "source": [
    "df_imputed %>% mutate(total_expenses = RoomService + FoodCourt + Spa + ShoppingMall + VRDeck) %>% \n",
    "    filter(total_expenses > 20e3)\n",
    "df_imputed %>% mutate(total_expenses = RoomService + FoodCourt + Spa + ShoppingMall + VRDeck) %>% \n",
    "    filter(VRDeck > 10e3) %>% group_by(HomePlanet) %>% \n",
    "    summarise(n = n())"
   ]
  },
  {
   "cell_type": "code",
   "execution_count": null,
   "metadata": {
    "vscode": {
     "languageId": "r"
    }
   },
   "outputs": [],
   "source": [
    "ggplot(df_imputed, aes(x = Destination, fill = Transported)) +\n",
    "    geom_bar(position = 'dodge') +\n",
    "    facet_wrap(~CryoSleep)\n"
   ]
  },
  {
   "cell_type": "code",
   "execution_count": null,
   "metadata": {
    "vscode": {
     "languageId": "r"
    }
   },
   "outputs": [],
   "source": [
    "ggplot(df_imputed, aes(x = Cabin_deck, fill = CryoSleep)) +\n",
    "    geom_bar(position = 'dodge')"
   ]
  },
  {
   "cell_type": "markdown",
   "metadata": {},
   "source": [
    "Observar la ```F```"
   ]
  },
  {
   "cell_type": "code",
   "execution_count": null,
   "metadata": {
    "vscode": {
     "languageId": "r"
    }
   },
   "outputs": [],
   "source": [
    "ggplot(df_imputed, aes(x = CryoSleep, fill = Transported)) +\n",
    "    geom_bar(position = 'dodge')+\n",
    "    facet_wrap(~HomePlanet)"
   ]
  },
  {
   "cell_type": "markdown",
   "metadata": {},
   "source": [
    "Los que están en CryoSleep, si vienen de Europa o Marte serán transportados. En el caso de que proceda de la Tierra no es tan claro."
   ]
  },
  {
   "cell_type": "code",
   "execution_count": null,
   "metadata": {
    "scrolled": false,
    "vscode": {
     "languageId": "r"
    }
   },
   "outputs": [],
   "source": [
    "ggplot(df_imputed , aes(x = CryoSleep, fill = Transported)) +\n",
    "    geom_bar(position = 'dodge')+\n",
    "    facet_wrap(~Destination)"
   ]
  },
  {
   "cell_type": "markdown",
   "metadata": {},
   "source": [
    "Los que van a Cancri y cryosleep igual a True son transportados en su mayoría."
   ]
  },
  {
   "cell_type": "code",
   "execution_count": null,
   "metadata": {
    "vscode": {
     "languageId": "r"
    }
   },
   "outputs": [],
   "source": [
    "ggplot(df_imputed, aes(x = Destination, fill = Transported)) +\n",
    "    geom_bar(position = 'dodge')+\n",
    "    facet_wrap(~HomePlanet)"
   ]
  },
  {
   "cell_type": "markdown",
   "metadata": {},
   "source": [
    "Los false de transported para earth son sobretodo para destination igual a Trappist-1e."
   ]
  },
  {
   "cell_type": "code",
   "execution_count": null,
   "metadata": {
    "vscode": {
     "languageId": "r"
    }
   },
   "outputs": [],
   "source": [
    "ggplot(df_imputed, aes(x = CryoSleep, fill = Transported)) +\n",
    "    geom_bar(position = 'dodge')+\n",
    "    facet_wrap(~Cabin_deck)"
   ]
  },
  {
   "cell_type": "code",
   "execution_count": null,
   "metadata": {
    "vscode": {
     "languageId": "r"
    }
   },
   "outputs": [],
   "source": [
    "ggplot(df_imputed, aes(x = Cabin_deck, fill = CryoSleep)) +\n",
    "    geom_bar(position = 'dodge') +\n",
    "    facet_wrap(~Transported)"
   ]
  },
  {
   "cell_type": "code",
   "execution_count": null,
   "metadata": {
    "vscode": {
     "languageId": "r"
    }
   },
   "outputs": [],
   "source": [
    "ggplot(df_imputed, aes(x = Cabin_deck, fill = Transported)) +\n",
    "    geom_bar(position = 'dodge') +\n",
    "    facet_wrap(~CryoSleep)"
   ]
  },
  {
   "cell_type": "code",
   "execution_count": null,
   "metadata": {
    "vscode": {
     "languageId": "r"
    }
   },
   "outputs": [],
   "source": [
    "ggplot(df_imputed, aes(x = HomePlanet, fill = Cabin_deck)) +\n",
    "    geom_bar(position = 'dodge') "
   ]
  },
  {
   "cell_type": "markdown",
   "metadata": {},
   "source": [
    "CryoSleep = True -->personas en sus cabinas seguro --> A,B,C,D,F mas transportadas  \n",
    "Distinta distribución en cabinas por planeta de origen --> G terrícolas no tantos \n",
    "transportados --> graficas celda inferior se ve esa diferencia."
   ]
  },
  {
   "cell_type": "code",
   "execution_count": null,
   "metadata": {
    "vscode": {
     "languageId": "r"
    }
   },
   "outputs": [],
   "source": [
    "ggplot(df_imputed, aes(x = HomePlanet, fill=Transported)) +\n",
    "    geom_bar(color='black', alpha=0.5, position='dodge')"
   ]
  },
  {
   "cell_type": "markdown",
   "metadata": {},
   "source": [
    "Observar los CryoSleep = True --> en la habitación seguro --> mas transportados ??"
   ]
  },
  {
   "cell_type": "code",
   "execution_count": null,
   "metadata": {
    "vscode": {
     "languageId": "r"
    }
   },
   "outputs": [],
   "source": [
    "df_imputed %>% filter(VIP == 'True') %>% \n",
    "    ggplot( aes(x = VIP, fill=Transported)) +\n",
    "    geom_bar(color='black', alpha=0.5, position='dodge') +\n",
    "    scale_y_continuous(breaks = seq(0,5000,200))"
   ]
  },
  {
   "cell_type": "code",
   "execution_count": null,
   "metadata": {
    "vscode": {
     "languageId": "r"
    }
   },
   "outputs": [],
   "source": [
    "df_imputed %>% \n",
    "    ggplot(aes(x = VIP, fill=HomePlanet)) +\n",
    "    geom_bar(color='black', alpha=0.5, position='dodge') +\n",
    "    scale_y_continuous(breaks = seq(0,5000,200)) "
   ]
  },
  {
   "cell_type": "code",
   "execution_count": null,
   "metadata": {
    "vscode": {
     "languageId": "r"
    }
   },
   "outputs": [],
   "source": [
    "df_imputed %>% count(VIP, Transported)"
   ]
  },
  {
   "cell_type": "code",
   "execution_count": null,
   "metadata": {
    "vscode": {
     "languageId": "r"
    }
   },
   "outputs": [],
   "source": [
    "df_imputed %>% ggplot(aes(x = Alone, fill = Cabin_deck)) +\n",
    "    geom_bar(position = 'dodge') "
   ]
  },
  {
   "cell_type": "code",
   "execution_count": null,
   "metadata": {
    "vscode": {
     "languageId": "r"
    }
   },
   "outputs": [],
   "source": [
    "df_imputed %>% \n",
    "    ggplot(aes(x = Age, fill = CryoSleep)) +\n",
    "    geom_density(alpha = 0.4, position = 'dodge') +\n",
    "    facet_wrap(~Cabin_deck)"
   ]
  },
  {
   "cell_type": "code",
   "execution_count": null,
   "metadata": {
    "scrolled": false,
    "vscode": {
     "languageId": "r"
    }
   },
   "outputs": [],
   "source": [
    "ggplot(df_imputed,aes(x = RoomService, fill=Transported))+\n",
    "        geom_density()"
   ]
  },
  {
   "cell_type": "code",
   "execution_count": null,
   "metadata": {
    "vscode": {
     "languageId": "r"
    }
   },
   "outputs": [],
   "source": [
    "ggplot(df_imputed, aes(x = VRDeck, y = FoodCourt, color = Transported)) +\n",
    "    geom_point(alpha = 0.4)"
   ]
  },
  {
   "cell_type": "code",
   "execution_count": null,
   "metadata": {
    "vscode": {
     "languageId": "r"
    }
   },
   "outputs": [],
   "source": [
    "ggplot(df_imputed, aes(x = ShoppingMall, y = FoodCourt, color = Transported)) +\n",
    "    geom_point(alpha = 0.4)"
   ]
  },
  {
   "cell_type": "code",
   "execution_count": null,
   "metadata": {
    "vscode": {
     "languageId": "r"
    }
   },
   "outputs": [],
   "source": [
    "ggplot(df_imputed, aes(x = Spa, y = FoodCourt, color = Transported)) +\n",
    "    geom_point(alpha = 0.4)"
   ]
  },
  {
   "cell_type": "code",
   "execution_count": null,
   "metadata": {
    "vscode": {
     "languageId": "r"
    }
   },
   "outputs": [],
   "source": [
    "ggplot(df_imputed %>% filter(Spa < 6000, FoodCourt < 10000), aes(x = Spa, y = FoodCourt, color = Transported)) +\n",
    "    geom_point(alpha = 0.4)"
   ]
  },
  {
   "cell_type": "code",
   "execution_count": null,
   "metadata": {
    "vscode": {
     "languageId": "r"
    }
   },
   "outputs": [],
   "source": [
    "ggplot(df_imputed, aes(x = Spa, y = VRDeck, color = Transported)) +\n",
    "    geom_point(alpha = 0.4)"
   ]
  },
  {
   "cell_type": "code",
   "execution_count": null,
   "metadata": {
    "vscode": {
     "languageId": "r"
    }
   },
   "outputs": [],
   "source": [
    "ggplot(df_imputed, aes(x = RoomService, y = FoodCourt, color = Transported)) +\n",
    "    geom_point(alpha = 0.4)"
   ]
  },
  {
   "cell_type": "code",
   "execution_count": null,
   "metadata": {
    "vscode": {
     "languageId": "r"
    }
   },
   "outputs": [],
   "source": [
    "ggplot(df_imputed, aes(x = RoomService, y = ShoppingMall, color = Transported)) +\n",
    "    geom_point(alpha = 0.4)"
   ]
  },
  {
   "cell_type": "code",
   "execution_count": null,
   "metadata": {
    "scrolled": false,
    "vscode": {
     "languageId": "r"
    }
   },
   "outputs": [],
   "source": [
    "ggplot(df_imputed %>% filter(RoomService < 4000, ShoppingMall < 4000), aes(x = RoomService, y = ShoppingMall, color = Transported)) +\n",
    "    geom_point(alpha = 0.4)"
   ]
  },
  {
   "cell_type": "code",
   "execution_count": null,
   "metadata": {
    "vscode": {
     "languageId": "r"
    }
   },
   "outputs": [],
   "source": [
    "df_imputed %>% mutate(SM_FC = ShoppingMall + FoodCourt) %>%\n",
    "    ggplot(., aes(x = SM_FC, y = Spa, color = Transported)) +\n",
    "    geom_point()"
   ]
  },
  {
   "cell_type": "code",
   "execution_count": null,
   "metadata": {
    "vscode": {
     "languageId": "r"
    }
   },
   "outputs": [],
   "source": [
    "df_imputed %>% mutate(SM_FC = ShoppingMall + FoodCourt) %>%\n",
    "    ggplot(., aes(x = SM_FC, y = RoomService, color = Transported)) +\n",
    "    geom_point()"
   ]
  },
  {
   "cell_type": "code",
   "execution_count": null,
   "metadata": {
    "vscode": {
     "languageId": "r"
    }
   },
   "outputs": [],
   "source": [
    "df_imputed %>% mutate(SM_FC = ShoppingMall + FoodCourt) %>%\n",
    "    ggplot(., aes(x = SM_FC, y = VRDeck, color = Transported)) +\n",
    "    geom_point()"
   ]
  },
  {
   "cell_type": "code",
   "execution_count": null,
   "metadata": {
    "scrolled": false,
    "vscode": {
     "languageId": "r"
    }
   },
   "outputs": [],
   "source": [
    "df_imputed %>% mutate(SM_FC = ShoppingMall + FoodCourt, VD_SP = Spa + VRDeck) %>%\n",
    "    ggplot(., aes(x = SM_FC, y = VD_SP, color = Transported)) +\n",
    "    geom_point(alpha = 0.5)"
   ]
  },
  {
   "cell_type": "code",
   "execution_count": null,
   "metadata": {
    "vscode": {
     "languageId": "r"
    }
   },
   "outputs": [],
   "source": [
    "df_imputed %>% mutate(SM_FC = ShoppingMall + FoodCourt, VD_SP = Spa + VRDeck) %>%\n",
    "    ggplot(., aes(x = Age, y = SM_FC, color = Transported)) +\n",
    "    geom_point(alpha = 0.5)"
   ]
  },
  {
   "cell_type": "code",
   "execution_count": null,
   "metadata": {
    "vscode": {
     "languageId": "r"
    }
   },
   "outputs": [],
   "source": [
    "df_imputed %>% mutate(SM_FC = ShoppingMall + FoodCourt, VD_SP = Spa + VRDeck) %>%\n",
    "    ggplot(., aes(x = Age, y = VD_SP, color = Transported)) +\n",
    "    geom_point(alpha = 0.5)"
   ]
  },
  {
   "cell_type": "markdown",
   "metadata": {},
   "source": [
    "# Correlación "
   ]
  },
  {
   "cell_type": "code",
   "execution_count": null,
   "metadata": {
    "vscode": {
     "languageId": "r"
    }
   },
   "outputs": [],
   "source": [
    "library(corrplot)"
   ]
  },
  {
   "cell_type": "code",
   "execution_count": null,
   "metadata": {
    "vscode": {
     "languageId": "r"
    }
   },
   "outputs": [],
   "source": [
    "df_imputed %>% select_if(is.numeric) %>% select(-Cabin_num) %>%\n",
    "     cor(method = 'spearman') %>% corrplot(method = 'number')"
   ]
  },
  {
   "cell_type": "markdown",
   "metadata": {},
   "source": [
    "No se ve nada relevante en la matriz de correlación."
   ]
  },
  {
   "cell_type": "code",
   "execution_count": null,
   "metadata": {
    "vscode": {
     "languageId": "r"
    }
   },
   "outputs": [],
   "source": [
    "str(df_imputed)"
   ]
  },
  {
   "cell_type": "code",
   "execution_count": null,
   "metadata": {
    "vscode": {
     "languageId": "r"
    }
   },
   "outputs": [],
   "source": [
    "df_imputed = df_imputed %>% select(-Cabin_num, -Name, -Alone)\n",
    "write.csv(df_imputed,'../data/train_pr.csv', row.names = FALSE)"
   ]
  },
  {
   "cell_type": "markdown",
   "metadata": {},
   "source": [
    "### Conclusiones\n",
    "\n",
    "* CryoSleep es muy importante y condiciona a las numéricas.\n",
    "* Parece ser que los tripulantes con CryoSleep y transportados se ubican en las cubiertas A, B, C, D mayoritariamente. Además, si provienen de Europa o Marte seguramente sean pasajeros transportados.\n",
    "* Parece que valores elevados en FoodCourt y ShoppingMall indican tendencia a ser transportado. Podría ser muy interesante introducir una nueva variable que fuese la suma de ambas y reducir así la dimensionalida de los datos. Por otro lado, VRDeck y Spa parecen tener el comportamiento opuesto a las dos anteriores.\n",
    "* RoomService no da excesiva información a priori.\n",
    "* VIP no parece ser especialmente relevante.\n",
    "* Alone no parece dar mucha información tampoco."
   ]
  },
  {
   "cell_type": "markdown",
   "metadata": {},
   "source": [
    "## Missing values en el conjunto de test"
   ]
  },
  {
   "cell_type": "code",
   "execution_count": null,
   "metadata": {
    "vscode": {
     "languageId": "r"
    }
   },
   "outputs": [],
   "source": [
    "# Cargamos datos\n",
    "df_test = read.csv(\"../data/test.csv\", header = TRUE)\n",
    "head(df_test)"
   ]
  },
  {
   "cell_type": "code",
   "execution_count": null,
   "metadata": {
    "scrolled": true,
    "vscode": {
     "languageId": "r"
    }
   },
   "outputs": [],
   "source": [
    "missmap(df_test)"
   ]
  },
  {
   "cell_type": "markdown",
   "metadata": {},
   "source": [
    "### Variables categóricas"
   ]
  },
  {
   "cell_type": "code",
   "execution_count": null,
   "metadata": {
    "vscode": {
     "languageId": "r"
    }
   },
   "outputs": [],
   "source": [
    "cabin_splitted_test = str_split(df_test$Cabin, '/', simplify = TRUE)"
   ]
  },
  {
   "cell_type": "code",
   "execution_count": null,
   "metadata": {
    "vscode": {
     "languageId": "r"
    }
   },
   "outputs": [],
   "source": [
    "table(cabin_splitted_test[, 1])"
   ]
  },
  {
   "cell_type": "code",
   "execution_count": null,
   "metadata": {
    "vscode": {
     "languageId": "r"
    }
   },
   "outputs": [],
   "source": [
    "table(cabin_splitted_test[, 3])"
   ]
  },
  {
   "cell_type": "code",
   "execution_count": null,
   "metadata": {
    "vscode": {
     "languageId": "r"
    }
   },
   "outputs": [],
   "source": [
    "df_test_imputed = df_test %>% mutate(Cabin_deck = cabin_splitted_test[, 1], \n",
    "                   Cabin_num = as.integer(cabin_splitted_test[, 2]), \n",
    "                   Cabin_side = cabin_splitted_test[, 3]) %>% select(-Cabin)"
   ]
  },
  {
   "cell_type": "code",
   "execution_count": null,
   "metadata": {
    "vscode": {
     "languageId": "r"
    }
   },
   "outputs": [],
   "source": [
    "df_test_imputed$Cabin_deck[df_test_imputed$Cabin_deck == \"\"] = NA\n",
    "df_test_imputed$Cabin_num[df_test_imputed$Cabin_num == \"\"] = NA\n",
    "df_test_imputed$Cabin_side[df_test_imputed$Cabin_side == \"\"] = NA\n",
    "df_test_imputed$HomePlanet[df_test_imputed$HomePlanet == \"\"] = NA\n",
    "df_test_imputed$Destination[df_test_imputed$Destination == \"\"] = NA\n",
    "df_test_imputed$CryoSleep[df_test_imputed$CryoSleep == \"\"] = NA\n",
    "df_test_imputed$VIP[df_test_imputed$VIP == \"\"] = NA"
   ]
  },
  {
   "cell_type": "code",
   "execution_count": null,
   "metadata": {
    "vscode": {
     "languageId": "r"
    }
   },
   "outputs": [],
   "source": [
    "missmap(df_test_imputed)"
   ]
  },
  {
   "cell_type": "code",
   "execution_count": null,
   "metadata": {
    "vscode": {
     "languageId": "r"
    }
   },
   "outputs": [],
   "source": [
    "df_test_imputed$Cabin_deck[is.na(df_test_imputed$Cabin_deck)] = mode_cabin_deck\n",
    "df_test_imputed$Cabin_side[is.na(df_test_imputed$Cabin_side)] = mode_cabin_side\n",
    "df_test_imputed$HomePlanet[is.na(df_test_imputed$HomePlanet)] = mode_hp\n",
    "df_test_imputed$Destination[is.na(df_test_imputed$Destination)] = mode_dest\n",
    "df_test_imputed$VIP[is.na(df_test_imputed$VIP)] = mode_vip"
   ]
  },
  {
   "cell_type": "code",
   "execution_count": null,
   "metadata": {
    "vscode": {
     "languageId": "r"
    }
   },
   "outputs": [],
   "source": [
    "missmap(df_test_imputed)"
   ]
  },
  {
   "cell_type": "code",
   "execution_count": null,
   "metadata": {
    "vscode": {
     "languageId": "r"
    }
   },
   "outputs": [],
   "source": [
    "df_test_imputed %>% count(CryoSleep)"
   ]
  },
  {
   "cell_type": "code",
   "execution_count": null,
   "metadata": {
    "vscode": {
     "languageId": "r"
    }
   },
   "outputs": [],
   "source": [
    "df_test_imputed %>% filter(RoomService==0,FoodCourt == 0, ShoppingMall == 0, Spa == 0,\n",
    "                     VRDeck == 0) %>% count(CryoSleep)"
   ]
  },
  {
   "cell_type": "code",
   "execution_count": null,
   "metadata": {
    "vscode": {
     "languageId": "r"
    }
   },
   "outputs": [],
   "source": [
    "cs_idTrue_test = df_test_imputed %>% filter(is.na(CryoSleep),RoomService==0,\n",
    "                                  FoodCourt == 0, ShoppingMall == 0, Spa == 0,\n",
    "                                  VRDeck == 0) %>% select(PassengerId)\n",
    "\n",
    "df_test_imputed[df_test_imputed$PassengerId %in% cs_idTrue_test[,1],]$CryoSleep = 'True'"
   ]
  },
  {
   "cell_type": "code",
   "execution_count": null,
   "metadata": {
    "vscode": {
     "languageId": "r"
    }
   },
   "outputs": [],
   "source": [
    "df_test_imputed %>% filter(RoomService!=0 | FoodCourt != 0 | ShoppingMall != 0 | Spa != 0 |\n",
    "                     VRDeck != 0) %>% count(CryoSleep)"
   ]
  },
  {
   "cell_type": "code",
   "execution_count": null,
   "metadata": {
    "vscode": {
     "languageId": "r"
    }
   },
   "outputs": [],
   "source": [
    "cs_idFalse_test = df_test_imputed %>% filter(is.na(CryoSleep), (RoomService!=0 | FoodCourt != 0 | ShoppingMall != 0 | Spa != 0 |\n",
    "                     VRDeck != 0)) %>% select(PassengerId) "
   ]
  },
  {
   "cell_type": "code",
   "execution_count": null,
   "metadata": {
    "scrolled": true,
    "vscode": {
     "languageId": "r"
    }
   },
   "outputs": [],
   "source": [
    "df_test_imputed[df_test_imputed$PassengerId %in% cs_idFalse_test[,1],]$CryoSleep = 'False'"
   ]
  },
  {
   "cell_type": "code",
   "execution_count": null,
   "metadata": {
    "vscode": {
     "languageId": "r"
    }
   },
   "outputs": [],
   "source": [
    "df_test_imputed %>% count(CryoSleep)"
   ]
  },
  {
   "cell_type": "code",
   "execution_count": null,
   "metadata": {
    "vscode": {
     "languageId": "r"
    }
   },
   "outputs": [],
   "source": [
    "df_test_imputed %>% filter(is.na(CryoSleep))"
   ]
  },
  {
   "cell_type": "code",
   "execution_count": null,
   "metadata": {
    "vscode": {
     "languageId": "r"
    }
   },
   "outputs": [],
   "source": [
    "cs_idTrue_NAnum_test = df_test_imputed %>% filter(is.na(CryoSleep)) %>% select(PassengerId)"
   ]
  },
  {
   "cell_type": "code",
   "execution_count": null,
   "metadata": {
    "vscode": {
     "languageId": "r"
    }
   },
   "outputs": [],
   "source": [
    "df_test_imputed[df_test_imputed$PassengerId %in% cs_idTrue_NAnum_test[,1],]$CryoSleep = 'True'"
   ]
  },
  {
   "cell_type": "code",
   "execution_count": null,
   "metadata": {
    "scrolled": true,
    "vscode": {
     "languageId": "r"
    }
   },
   "outputs": [],
   "source": [
    "df_test_imputed %>% count(CryoSleep)"
   ]
  },
  {
   "cell_type": "code",
   "execution_count": null,
   "metadata": {
    "vscode": {
     "languageId": "r"
    }
   },
   "outputs": [],
   "source": [
    "missmap(df_test_imputed)"
   ]
  },
  {
   "cell_type": "markdown",
   "metadata": {},
   "source": [
    "### Variables numéricas"
   ]
  },
  {
   "cell_type": "code",
   "execution_count": null,
   "metadata": {
    "vscode": {
     "languageId": "r"
    }
   },
   "outputs": [],
   "source": [
    "df_test_imputed$Age[is.na(df_test_imputed$Age)] = age_median"
   ]
  },
  {
   "cell_type": "code",
   "execution_count": null,
   "metadata": {
    "vscode": {
     "languageId": "r"
    }
   },
   "outputs": [],
   "source": [
    "missmap(df_test_imputed)"
   ]
  },
  {
   "cell_type": "code",
   "execution_count": null,
   "metadata": {
    "vscode": {
     "languageId": "r"
    }
   },
   "outputs": [],
   "source": [
    "df_test_imputed %>% filter(CryoSleep == \"True\", (is.na(RoomService) | is.na(VRDeck) | is.na(Spa) | is.na(ShoppingMall) | is.na(FoodCourt))) %>%\n",
    "                  mutate(total_expenses = RoomService + FoodCourt + Spa + ShoppingMall + VRDeck) %>%\n",
    "                  filter(is.na(total_expenses)) %>% head()"
   ]
  },
  {
   "cell_type": "code",
   "execution_count": null,
   "metadata": {
    "vscode": {
     "languageId": "r"
    }
   },
   "outputs": [],
   "source": [
    "expenses_IdZero_RoomService_test = df_test_imputed %>% filter(CryoSleep == \"True\", is.na(RoomService)) %>% select(PassengerId)\n",
    "expenses_IdZero_VRDeck_test = df_test_imputed %>% filter(CryoSleep == \"True\", is.na(VRDeck)) %>% select(PassengerId)\n",
    "expenses_IdZero_Spa_test = df_test_imputed %>% filter(CryoSleep == \"True\", is.na(Spa)) %>% select(PassengerId)\n",
    "expenses_IdZero_ShoppingMall_test = df_test_imputed %>% filter(CryoSleep == \"True\", is.na(ShoppingMall)) %>% select(PassengerId)\n",
    "expenses_IdZero_FoodCourt_test = df_test_imputed %>% filter(CryoSleep == \"True\", is.na(FoodCourt)) %>% select(PassengerId)\n",
    "\n",
    "df_test_imputed[df_test_imputed$PassengerId %in% expenses_IdZero_RoomService_test[,1],]$RoomService = 0\n",
    "df_test_imputed[df_test_imputed$PassengerId %in% expenses_IdZero_VRDeck_test[,1],]$VRDeck = 0\n",
    "df_test_imputed[df_test_imputed$PassengerId %in% expenses_IdZero_Spa_test[,1],]$Spa = 0\n",
    "df_test_imputed[df_test_imputed$PassengerId %in% expenses_IdZero_ShoppingMall_test[,1],]$ShoppingMall = 0\n",
    "df_test_imputed[df_test_imputed$PassengerId %in% expenses_IdZero_FoodCourt_test[,1],]$FoodCourt = 0"
   ]
  },
  {
   "cell_type": "code",
   "execution_count": null,
   "metadata": {
    "scrolled": true,
    "vscode": {
     "languageId": "r"
    }
   },
   "outputs": [],
   "source": [
    "df_test_imputed %>% filter(CryoSleep == \"False\", (is.na(RoomService) | is.na(VRDeck) |\n",
    "                      is.na(Spa) | is.na(ShoppingMall) | is.na(FoodCourt))) %>% \n",
    "                      head()"
   ]
  },
  {
   "cell_type": "code",
   "execution_count": null,
   "metadata": {
    "vscode": {
     "languageId": "r"
    }
   },
   "outputs": [],
   "source": [
    "expenses_IdMedian_RoomService_test = df_test_imputed %>% filter(CryoSleep == \"False\", is.na(RoomService)) %>% select(PassengerId)\n",
    "expenses_IdMedian_VRDeck_test = df_test_imputed %>% filter(CryoSleep == \"False\", is.na(VRDeck)) %>% select(PassengerId)\n",
    "expenses_IdMedian_Spa_test = df_test_imputed %>% filter(CryoSleep == \"False\", is.na(Spa)) %>% select(PassengerId)\n",
    "expenses_IdMedian_ShoppingMall_test = df_test_imputed %>% filter(CryoSleep == \"False\", is.na(ShoppingMall)) %>% select(PassengerId)\n",
    "expenses_IdMedian_FoodCourt_test = df_test_imputed %>% filter(CryoSleep == \"False\", is.na(FoodCourt)) %>% select(PassengerId)"
   ]
  },
  {
   "cell_type": "code",
   "execution_count": null,
   "metadata": {
    "vscode": {
     "languageId": "r"
    }
   },
   "outputs": [],
   "source": [
    "df_test_imputed[df_test_imputed$PassengerId %in% expenses_IdMedian_RoomService_test[,1],]$RoomService = rs_median\n",
    "df_test_imputed[df_test_imputed$PassengerId %in% expenses_IdMedian_VRDeck_test[,1],]$VRDeck = vd_median\n",
    "df_test_imputed[df_test_imputed$PassengerId %in% expenses_IdMedian_Spa_test[,1],]$Spa = spa_median\n",
    "df_test_imputed[df_test_imputed$PassengerId %in% expenses_IdMedian_ShoppingMall_test[,1],]$ShoppingMall = sm_median\n",
    "df_test_imputed[df_test_imputed$PassengerId %in% expenses_IdMedian_FoodCourt_test[,1],]$FoodCourt = fc_median"
   ]
  },
  {
   "cell_type": "code",
   "execution_count": null,
   "metadata": {
    "vscode": {
     "languageId": "r"
    }
   },
   "outputs": [],
   "source": [
    "missmap(df_test_imputed)"
   ]
  },
  {
   "cell_type": "code",
   "execution_count": null,
   "metadata": {
    "vscode": {
     "languageId": "r"
    }
   },
   "outputs": [],
   "source": [
    "df_test_imputed = df_test_imputed %>% select(-Cabin_num, -Name)\n",
    "write.csv(df_test_imputed,'../data/test_pr.csv', row.names = FALSE)"
   ]
  }
 ],
 "metadata": {
  "kernelspec": {
   "display_name": "R",
   "language": "R",
   "name": "ir"
  },
  "language_info": {
   "codemirror_mode": "r",
   "file_extension": ".r",
   "mimetype": "text/x-r-source",
   "name": "R",
   "pygments_lexer": "r",
   "version": "3.6.1"
  },
  "vscode": {
   "interpreter": {
    "hash": "e7370f93d1d0cde622a1f8e1c04877d8463912d04d973331ad4851f04de6915a"
   }
  }
 },
 "nbformat": 4,
 "nbformat_minor": 2
}
