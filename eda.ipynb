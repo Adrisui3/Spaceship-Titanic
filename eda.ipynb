{
 "cells": [
  {
   "cell_type": "markdown",
   "metadata": {},
   "source": [
    "# Análisis exploratorio de datos (EDA)"
   ]
  },
  {
   "cell_type": "code",
   "execution_count": null,
   "metadata": {
    "scrolled": true,
    "vscode": {
     "languageId": "r"
    }
   },
   "outputs": [],
   "source": [
    "library(tidyverse)\n",
    "library(Amelia)"
   ]
  },
  {
   "cell_type": "code",
   "execution_count": null,
   "metadata": {
    "scrolled": true,
    "vscode": {
     "languageId": "r"
    }
   },
   "outputs": [],
   "source": [
    "df = read.csv(\"data/train.csv\", header = TRUE)\n",
    "head(df)"
   ]
  },
  {
   "cell_type": "markdown",
   "metadata": {},
   "source": [
    "### Recodificación variable cabin en 3 variables"
   ]
  },
  {
   "cell_type": "code",
   "execution_count": null,
   "metadata": {
    "vscode": {
     "languageId": "r"
    }
   },
   "outputs": [],
   "source": [
    "cabin_splitted = str_split(df$Cabin, '/', simplify = TRUE)\n",
    "id_splitted = str_split(df$PassengerId, '_', simplify = TRUE)"
   ]
  },
  {
   "cell_type": "code",
   "execution_count": null,
   "metadata": {},
   "outputs": [],
   "source": [
    "colnames(id_splitted)=c('group_id','personal_id')\n",
    "head(id_splitted)"
   ]
  },
  {
   "cell_type": "code",
   "execution_count": null,
   "metadata": {
    "vscode": {
     "languageId": "r"
    }
   },
   "outputs": [],
   "source": [
    "table(cabin_splitted[, 1])"
   ]
  },
  {
   "cell_type": "code",
   "execution_count": null,
   "metadata": {
    "vscode": {
     "languageId": "r"
    }
   },
   "outputs": [],
   "source": [
    "table(cabin_splitted[, 3])"
   ]
  },
  {
   "cell_type": "code",
   "execution_count": null,
   "metadata": {
    "vscode": {
     "languageId": "r"
    }
   },
   "outputs": [],
   "source": [
    "df = df %>% mutate(Cabin_deck = cabin_splitted[, 1], \n",
    "                   Cabin_num = as.integer(cabin_splitted[, 2]), \n",
    "                   Cabin_side = cabin_splitted[, 3]) %>% select(-Cabin)\n",
    "head(df)"
   ]
  },
  {
   "cell_type": "markdown",
   "metadata": {},
   "source": [
    "### Missing values"
   ]
  },
  {
   "cell_type": "code",
   "execution_count": null,
   "metadata": {
    "vscode": {
     "languageId": "r"
    }
   },
   "outputs": [],
   "source": [
    "missmap(df)"
   ]
  },
  {
   "cell_type": "code",
   "execution_count": null,
   "metadata": {
    "vscode": {
     "languageId": "r"
    }
   },
   "outputs": [],
   "source": [
    "print(table(df$HomePlanet))\n",
    "print(table(df$Destination))\n",
    "print(table(df$CryoSleep))\n",
    "print(table(df$VIP))"
   ]
  },
  {
   "cell_type": "code",
   "execution_count": null,
   "metadata": {
    "vscode": {
     "languageId": "r"
    }
   },
   "outputs": [],
   "source": [
    "df$Cabin_deck[df$Cabin_deck == \"\"] = NA\n",
    "df$Cabin_num[df$Cabin_num == \"\"] = NA\n",
    "df$Cabin_side[df$Cabin_side == \"\"] = NA\n",
    "df$HomePlanet[df$HomePlanet == \"\"] = NA\n",
    "df$Destination[df$Destination == \"\"] = NA\n",
    "df$CryoSleep[df$CryoSleep == \"\"] = NA\n",
    "df$VIP[df$VIP == \"\"] = NA"
   ]
  },
  {
   "cell_type": "code",
   "execution_count": null,
   "metadata": {
    "vscode": {
     "languageId": "r"
    }
   },
   "outputs": [],
   "source": [
    "missmap(df)"
   ]
  },
  {
   "cell_type": "code",
   "execution_count": null,
   "metadata": {},
   "outputs": [],
   "source": [
    "# Porcentaje de filas completas\n",
    "sum(complete.cases(df))/nrow(df)\n",
    "# Ricardo: El porcentaje es muy bajo para poder descartar filas con valores perdidos, por lo que la imputación\n",
    "# es necesaria, además de que tendremos valores perdidos en el conjunto de test como habíamos comentado."
   ]
  },
  {
   "cell_type": "markdown",
   "metadata": {},
   "source": [
    "### Missing values categóricos"
   ]
  },
  {
   "cell_type": "code",
   "execution_count": null,
   "metadata": {
    "vscode": {
     "languageId": "r"
    }
   },
   "outputs": [],
   "source": [
    "mode_hp = (df %>% group_by(HomePlanet) %>% summarize(n = n()) %>% na.omit %>% top_n(1))$HomePlanet\n",
    "mode_cabin_deck = (df %>% group_by(Cabin_deck) %>% summarize(n = n()) %>% na.omit %>% top_n(1))$Cabin_deck\n",
    "mode_cabin_side = (df %>% group_by(Cabin_side) %>% summarize(n = n()) %>% na.omit %>% top_n(1))$Cabin_side\n",
    "mode_dest = (df %>% group_by(Destination) %>% summarize(n = n()) %>% na.omit %>% top_n(1))$Destination\n",
    "mode_cs = (df %>% group_by(CryoSleep) %>% summarize(n = n()) %>% na.omit %>% top_n(1))$CryoSleep\n",
    "mode_vip = (df %>% group_by(VIP) %>% summarize(n = n()) %>% na.omit %>% top_n(1))$VIP\n"
   ]
  },
  {
   "cell_type": "code",
   "execution_count": null,
   "metadata": {
    "vscode": {
     "languageId": "r"
    }
   },
   "outputs": [],
   "source": [
    "df_mode = data.frame(mode_hp = mode_hp, mode_cabin_deck = mode_cabin_deck, mode_cabin_side = mode_cabin_side, mode_cs = mode_cs, mode_vip = mode_vip, mode_dest = mode_dest)\n",
    "df_mode\n",
    "write.csv(df_mode,'data/modes.csv')"
   ]
  },
  {
   "cell_type": "code",
   "execution_count": null,
   "metadata": {
    "vscode": {
     "languageId": "r"
    }
   },
   "outputs": [],
   "source": [
    "df_imputed = data.frame(df)"
   ]
  },
  {
   "cell_type": "code",
   "execution_count": null,
   "metadata": {
    "vscode": {
     "languageId": "r"
    }
   },
   "outputs": [],
   "source": [
    "df_imputed$Cabin_deck[is.na(df_imputed$Cabin_deck)] = mode_cabin_deck\n",
    "df_imputed$Cabin_side[is.na(df_imputed$Cabin_side)] = mode_cabin_side\n",
    "df_imputed$HomePlanet[is.na(df_imputed$HomePlanet)] = mode_hp\n",
    "df_imputed$Destination[is.na(df_imputed$Destination)] = mode_dest\n",
    "df_imputed$VIP[is.na(df_imputed$VIP)] = mode_vip"
   ]
  },
  {
   "cell_type": "code",
   "execution_count": null,
   "metadata": {},
   "outputs": [],
   "source": [
    "str(df_imputed)"
   ]
  },
  {
   "cell_type": "code",
   "execution_count": null,
   "metadata": {
    "scrolled": false
   },
   "outputs": [],
   "source": [
    "df_imputed %>% filter(RoomService==0,FoodCourt == 0, ShoppingMall == 0, Spa == 0,\n",
    "                     VRDeck == 0) %>% count(CryoSleep)"
   ]
  },
  {
   "cell_type": "code",
   "execution_count": null,
   "metadata": {},
   "outputs": [],
   "source": [
    "cs_idTrue = df_imputed %>% filter(is.na(CryoSleep),RoomService==0,\n",
    "                                  FoodCourt == 0, ShoppingMall == 0, Spa == 0,\n",
    "                                  VRDeck == 0) %>% select(PassengerId)\n",
    "\n",
    "df_imputed[df_imputed$PassengerId %in% cs_idTrue[,1],]$CryoSleep = 'True'"
   ]
  },
  {
   "cell_type": "markdown",
   "metadata": {},
   "source": [
    "Si algún gasto es distinto de 0 CryoSleep se puede considerar como False:"
   ]
  },
  {
   "cell_type": "code",
   "execution_count": null,
   "metadata": {},
   "outputs": [],
   "source": [
    "df_imputed %>% filter(RoomService!=0 | FoodCourt != 0 | ShoppingMall != 0 | Spa != 0 |\n",
    "                     VRDeck != 0) %>% count(CryoSleep)"
   ]
  },
  {
   "cell_type": "code",
   "execution_count": null,
   "metadata": {},
   "outputs": [],
   "source": [
    "cs_idFalse = df_imputed %>% filter(is.na(CryoSleep), (RoomService!=0 | FoodCourt != 0 | ShoppingMall != 0 | Spa != 0 |\n",
    "                     VRDeck != 0)) %>% select(PassengerId) "
   ]
  },
  {
   "cell_type": "code",
   "execution_count": null,
   "metadata": {
    "scrolled": true
   },
   "outputs": [],
   "source": [
    "df_imputed[df_imputed$PassengerId %in% cs_idFalse[,1],]$CryoSleep = 'False'"
   ]
  },
  {
   "cell_type": "code",
   "execution_count": null,
   "metadata": {
    "scrolled": true
   },
   "outputs": [],
   "source": [
    "df_imputed %>% filter(is.na(CryoSleep))"
   ]
  },
  {
   "cell_type": "code",
   "execution_count": null,
   "metadata": {},
   "outputs": [],
   "source": [
    "df_imputed %>% filter((is.na(RoomService) | RoomService == 0),\n",
    "                      (is.na(FoodCourt) | FoodCourt == 0), \n",
    "                      (is.na(Spa) | Spa == 0), \n",
    "                      (is.na(ShoppingMall) | ShoppingMall == 0), \n",
    "                      (is.na(VRDeck) | VRDeck == 0)) %>%\n",
    "               mutate(total_expenses = RoomService + FoodCourt + Spa + ShoppingMall + VRDeck) %>%\n",
    "               filter(is.na(total_expenses)) %>% count(CryoSleep)"
   ]
  },
  {
   "cell_type": "code",
   "execution_count": null,
   "metadata": {},
   "outputs": [],
   "source": [
    "cs_idTrue_NAnum = df_imputed %>% filter(is.na(CryoSleep)) %>% select(PassengerId)"
   ]
  },
  {
   "cell_type": "code",
   "execution_count": null,
   "metadata": {},
   "outputs": [],
   "source": [
    "df_imputed[df_imputed$PassengerId %in% cs_idTrue_NAnum[,1],]$CryoSleep = 'True'"
   ]
  },
  {
   "cell_type": "code",
   "execution_count": null,
   "metadata": {
    "scrolled": true
   },
   "outputs": [],
   "source": [
    "df_imputed %>% count(CryoSleep)"
   ]
  },
  {
   "cell_type": "markdown",
   "metadata": {},
   "source": [
    "## Missing values numéricos"
   ]
  },
  {
   "cell_type": "code",
   "execution_count": null,
   "metadata": {},
   "outputs": [],
   "source": [
    "missmap(df_imputed)"
   ]
  },
  {
   "cell_type": "code",
   "execution_count": null,
   "metadata": {},
   "outputs": [],
   "source": [
    "df_imputed %>% filter(CryoSleep == \"True\", (is.na(RoomService) | is.na(VRDeck) | is.na(Spa) | is.na(ShoppingMall) | is.na(FoodCourt))) %>%\n",
    "                  mutate(total_expenses = RoomService + FoodCourt + Spa + ShoppingMall + VRDeck) %>%\n",
    "                  filter(is.na(total_expenses))"
   ]
  },
  {
   "cell_type": "code",
   "execution_count": null,
   "metadata": {
    "scrolled": true
   },
   "outputs": [],
   "source": [
    "expenses_IdZero_RoomService = df_imputed %>% filter(CryoSleep == \"True\", is.na(RoomService)) %>% select(PassengerId)\n",
    "expenses_IdZero_VRDeck = df_imputed %>% filter(CryoSleep == \"True\", is.na(VRDeck)) %>% select(PassengerId)\n",
    "expenses_IdZero_Spa = df_imputed %>% filter(CryoSleep == \"True\", is.na(Spa)) %>% select(PassengerId)\n",
    "expenses_IdZero_ShoppingMall = df_imputed %>% filter(CryoSleep == \"True\", is.na(ShoppingMall)) %>% select(PassengerId)\n",
    "expenses_IdZero_FoodCourt = df_imputed %>% filter(CryoSleep == \"True\", is.na(FoodCourt)) %>% select(PassengerId)"
   ]
  },
  {
   "cell_type": "code",
   "execution_count": null,
   "metadata": {},
   "outputs": [],
   "source": [
    "df_imputed[df_imputed$PassengerId %in% expenses_IdZero_RoomService[,1],]$RoomService = 0\n",
    "df_imputed[df_imputed$PassengerId %in% expenses_IdZero_VRDeck[,1],]$VRDeck = 0\n",
    "df_imputed[df_imputed$PassengerId %in% expenses_IdZero_Spa[,1],]$Spa = 0\n",
    "df_imputed[df_imputed$PassengerId %in% expenses_IdZero_ShoppingMall[,1],]$ShoppingMall = 0\n",
    "df_imputed[df_imputed$PassengerId %in% expenses_IdZero_FoodCourt[,1],]$FoodCourt = 0"
   ]
  },
  {
   "cell_type": "code",
   "execution_count": null,
   "metadata": {},
   "outputs": [],
   "source": [
    "missmap(df_imputed)"
   ]
  },
  {
   "cell_type": "code",
   "execution_count": null,
   "metadata": {
    "scrolled": true
   },
   "outputs": [],
   "source": [
    "df_imputed %>% filter(CryoSleep == \"False\", (is.na(RoomService) | is.na(VRDeck) | is.na(Spa) | is.na(ShoppingMall) | is.na(FoodCourt)))"
   ]
  },
  {
   "cell_type": "code",
   "execution_count": null,
   "metadata": {},
   "outputs": [],
   "source": [
    "expenses_IdMedian_RoomService = df_imputed %>% filter(CryoSleep == \"False\", is.na(RoomService)) %>% select(PassengerId)\n",
    "expenses_IdMedian_VRDeck = df_imputed %>% filter(CryoSleep == \"False\", is.na(VRDeck)) %>% select(PassengerId)\n",
    "expenses_IdMedian_Spa = df_imputed %>% filter(CryoSleep == \"False\", is.na(Spa)) %>% select(PassengerId)\n",
    "expenses_IdMedian_ShoppingMall = df_imputed %>% filter(CryoSleep == \"False\", is.na(ShoppingMall)) %>% select(PassengerId)\n",
    "expenses_IdMedian_FoodCourt = df_imputed %>% filter(CryoSleep == \"False\", is.na(FoodCourt)) %>% select(PassengerId)"
   ]
  },
  {
   "cell_type": "code",
   "execution_count": null,
   "metadata": {},
   "outputs": [],
   "source": [
    "df_imputed[df_imputed$PassengerId %in% expenses_IdMedian_RoomService[,1],]$RoomService = median(df_imputed$RoomService, na.rm = TRUE)\n",
    "df_imputed[df_imputed$PassengerId %in% expenses_IdMedian_VRDeck[,1],]$VRDeck = median(df_imputed$VRDeck, na.rm = TRUE)\n",
    "df_imputed[df_imputed$PassengerId %in% expenses_IdMedian_Spa[,1],]$Spa = median(df_imputed$Spa, na.rm = TRUE)\n",
    "df_imputed[df_imputed$PassengerId %in% expenses_IdMedian_ShoppingMall[,1],]$ShoppingMall = median(df_imputed$ShoppingMall, na.rm = TRUE)\n",
    "df_imputed[df_imputed$PassengerId %in% expenses_IdMedian_FoodCourt[,1],]$FoodCourt = median(df_imputed$FoodCourt, na.rm = TRUE)"
   ]
  },
  {
   "cell_type": "code",
   "execution_count": null,
   "metadata": {},
   "outputs": [],
   "source": [
    "missmap(df_imputed)"
   ]
  },
  {
   "cell_type": "code",
   "execution_count": null,
   "metadata": {},
   "outputs": [],
   "source": [
    "df_imputed[is.na(df_imputed$Age), ]$Age = median(df_imputed$Age, na.rm = TRUE)"
   ]
  },
  {
   "cell_type": "code",
   "execution_count": null,
   "metadata": {
    "scrolled": false
   },
   "outputs": [],
   "source": [
    "missmap(df_imputed)"
   ]
  },
  {
   "cell_type": "code",
   "execution_count": null,
   "metadata": {},
   "outputs": [],
   "source": [
    "df_imputed %>% filter(CryoSleep == \"True\") %>% count(Cabin_side, Cabin_deck)"
   ]
  },
  {
   "cell_type": "code",
   "execution_count": null,
   "metadata": {
    "scrolled": false
   },
   "outputs": [],
   "source": [
    "df_imputed %>% filter(VIP == \"True\") %>% count(CryoSleep)"
   ]
  },
  {
   "cell_type": "code",
   "execution_count": null,
   "metadata": {},
   "outputs": [],
   "source": [
    "df_imputed %>% filter(VIP == \"True\") %>% count(HomePlanet)"
   ]
  },
  {
   "cell_type": "code",
   "execution_count": null,
   "metadata": {},
   "outputs": [],
   "source": [
    "df_imputed %>% count(Cabin_side, HomePlanet, Cabin_deck)"
   ]
  },
  {
   "cell_type": "code",
   "execution_count": null,
   "metadata": {},
   "outputs": [],
   "source": [
    "df_imputed %>% count(HomePlanet, VIP)"
   ]
  },
  {
   "cell_type": "markdown",
   "metadata": {},
   "source": [
    "### Distribuciones variables numéricas"
   ]
  },
  {
   "cell_type": "code",
   "execution_count": null,
   "metadata": {},
   "outputs": [],
   "source": [
    "ggplot(df_imputed, aes(x = Age, fill = Transported)) +\n",
    "    geom_density() +\n",
    "    facet_wrap(~Transported)"
   ]
  },
  {
   "cell_type": "code",
   "execution_count": null,
   "metadata": {},
   "outputs": [],
   "source": [
    "str(df_imputed)"
   ]
  },
  {
   "cell_type": "code",
   "execution_count": null,
   "metadata": {},
   "outputs": [],
   "source": [
    "hist_plot = function(variab,bins_=NULL,binwidth_=NULL){\n",
    "    ggplot(df_imputed,aes(df_imputed[,variab],fill=Transported)) +\n",
    "    geom_histogram(bins=bins_,binwidth=binwidth_) +\n",
    "    labs(x = colnames(df_imputed)[variab])+ facet_wrap(~CryoSleep)\n",
    "}\n",
    "\n",
    "\n",
    "box_plot = function(variab){\n",
    "    ggplot(df_imputed,aes(y=df_imputed[,variab],fill=Transported)) + geom_boxplot()+\n",
    "    labs(y = colnames(df_imputed)[variab])+\n",
    "    facet_wrap(~CryoSleep)\n",
    "}"
   ]
  },
  {
   "cell_type": "code",
   "execution_count": null,
   "metadata": {},
   "outputs": [],
   "source": [
    "hist_plot(5)\n",
    "box_plot(5)"
   ]
  },
  {
   "cell_type": "code",
   "execution_count": null,
   "metadata": {},
   "outputs": [],
   "source": [
    "hist_plot(8)\n",
    "box_plot(8)"
   ]
  },
  {
   "cell_type": "code",
   "execution_count": null,
   "metadata": {},
   "outputs": [],
   "source": [
    "hist_plot(9)\n",
    "box_plot(9)"
   ]
  },
  {
   "cell_type": "code",
   "execution_count": null,
   "metadata": {},
   "outputs": [],
   "source": [
    "hist_plot(10)\n",
    "box_plot(10)"
   ]
  },
  {
   "cell_type": "code",
   "execution_count": null,
   "metadata": {},
   "outputs": [],
   "source": [
    "hist_plot(11)\n",
    "box_plot(11)"
   ]
  },
  {
   "cell_type": "markdown",
   "metadata": {},
   "source": [
    "### Análisis univariable"
   ]
  },
  {
   "cell_type": "code",
   "execution_count": null,
   "metadata": {
    "vscode": {
     "languageId": "r"
    }
   },
   "outputs": [],
   "source": [
    "ggplot(df_imputed, aes(x = Destination)) +\n",
    "    geom_bar() +\n",
    "    facet_wrap(~Transported)"
   ]
  },
  {
   "cell_type": "code",
   "execution_count": null,
   "metadata": {
    "vscode": {
     "languageId": "r"
    }
   },
   "outputs": [],
   "source": [
    "ggplot(df_imputed, aes(x = HomePlanet)) +\n",
    "    geom_bar() +\n",
    "    facet_wrap(~Transported)"
   ]
  },
  {
   "cell_type": "code",
   "execution_count": null,
   "metadata": {},
   "outputs": [],
   "source": [
    "ggplot(df, aes(x = HomePlanet)) +\n",
    "    geom_bar() +\n",
    "    facet_wrap(~Transported)"
   ]
  },
  {
   "cell_type": "code",
   "execution_count": null,
   "metadata": {},
   "outputs": [],
   "source": [
    "# Ricardo: parece que es más probable de ser transportado si un individuo es de otro planeta que no sea la Tierra,  \n",
    "# aunque esta sea la categoría con mayor número de individuos, por lo que el planeta de procedencia puede ser una primera\n",
    "# pista para la clasificación.\n",
    "ggplot(df, aes(x = HomePlanet, fill=Transported)) +\n",
    "    geom_bar(color='black', alpha=0.5, position='identity') +\n",
    "    scale_y_continuous(breaks = seq(0,3000,100))\n"
   ]
  },
  {
   "cell_type": "code",
   "execution_count": null,
   "metadata": {},
   "outputs": [],
   "source": [
    "ggplot(df, aes(x = VIP, fill=Transported)) +\n",
    "    geom_bar(color='black', alpha=0.5, position='identity') +\n",
    "    scale_y_continuous(breaks = seq(0,5000,200))"
   ]
  },
  {
   "cell_type": "code",
   "execution_count": null,
   "metadata": {
    "scrolled": false
   },
   "outputs": [],
   "source": [
    "# Ricardo: ¿Por qué en el rango entre 800 y 1100 hay más transportados?\n",
    "\n",
    "ggplot(df %>% filter(CryoSleep == \"True\"), aes(x = Cabin_num,fill=Transported)) +\n",
    "    geom_density(alpha=0.5)+\n",
    "scale_x_continuous(breaks = seq(0,1800,200))"
   ]
  },
  {
   "cell_type": "code",
   "execution_count": null,
   "metadata": {},
   "outputs": [],
   "source": [
    "ggplot(df, aes(x = Cabin_num,fill=Transported)) +\n",
    "    geom_bar()+\n",
    "scale_x_continuous(breaks = seq(0,1800,200))"
   ]
  },
  {
   "cell_type": "code",
   "execution_count": null,
   "metadata": {},
   "outputs": [],
   "source": [
    "str(df)"
   ]
  },
  {
   "cell_type": "markdown",
   "metadata": {},
   "source": [
    "### ANÁLISIS BIVARIABLE\n"
   ]
  },
  {
   "cell_type": "code",
   "execution_count": null,
   "metadata": {
    "scrolled": false
   },
   "outputs": [],
   "source": [
    "ggplot(df_imputed,aes(x = RoomService,fill=Transported))+\n",
    "        geom_density()"
   ]
  },
  {
   "cell_type": "code",
   "execution_count": null,
   "metadata": {},
   "outputs": [],
   "source": [
    "table(df$CryoSleep)"
   ]
  },
  {
   "cell_type": "code",
   "execution_count": null,
   "metadata": {
    "scrolled": true
   },
   "outputs": [],
   "source": [
    "set_plot_dimensions(14,8)\n",
    "\n",
    "ggplot(df,aes(x = RoomService,fill=CryoSleep))+\n",
    "        geom_density() + facet_wrap(~CryoSleep,scales='free')\n",
    "\n",
    "\n",
    "ggplot(df,aes(x = RoomService,fill=CryoSleep))+\n",
    "        geom_boxplot()"
   ]
  },
  {
   "cell_type": "code",
   "execution_count": null,
   "metadata": {
    "scrolled": true
   },
   "outputs": [],
   "source": [
    "df1 = df_imputed %>% filter(CryoSleep=='True') %>% select_if(is.numeric) %>% \n",
    "     select(-Cabin_num)\n",
    "\n",
    "head(df1)\n",
    "table(df1$RoomService)"
   ]
  },
  {
   "cell_type": "code",
   "execution_count": null,
   "metadata": {
    "scrolled": true
   },
   "outputs": [],
   "source": [
    "df %>% filter(CryoSleep=='True',VIP=='True')"
   ]
  },
  {
   "cell_type": "code",
   "execution_count": null,
   "metadata": {},
   "outputs": [],
   "source": [
    "df = df_imputed %>% mutate(total_expens = RoomService + FoodCourt + ShoppingMall + Spa +\n",
    "                  VRDeck)"
   ]
  },
  {
   "cell_type": "code",
   "execution_count": null,
   "metadata": {},
   "outputs": [],
   "source": [
    "df_imputed %>% group_by(Transported) %>%summarize(mean_expens = mean(total_expens,na.rm=TRUE)) "
   ]
  },
  {
   "cell_type": "code",
   "execution_count": null,
   "metadata": {},
   "outputs": [],
   "source": [
    "df_imputed %>% group_by(VIP) %>%summarize(mean_expens = mean(total_expens,na.rm=TRUE))"
   ]
  },
  {
   "cell_type": "code",
   "execution_count": null,
   "metadata": {},
   "outputs": [],
   "source": [
    "\n",
    "df_imputed %>% group_by(CryoSleep) %>%summarize(mean_expens = mean(total_expens,na.rm=TRUE))"
   ]
  },
  {
   "cell_type": "markdown",
   "metadata": {},
   "source": [
    "## Missing values en el conjunto de test"
   ]
  },
  {
   "cell_type": "code",
   "execution_count": null,
   "metadata": {},
   "outputs": [],
   "source": [
    "# Cargamos datos\n",
    "df_test = read.csv(\"data/test.csv\", header = TRUE)\n",
    "head(df_test)"
   ]
  },
  {
   "cell_type": "code",
   "execution_count": null,
   "metadata": {},
   "outputs": [],
   "source": [
    "# Lo mismo que antes, dividimos la variable Cabin en sus componentes\n",
    "splitted_test = str_split(df_test$Cabin, '/', simplify = TRUE)"
   ]
  },
  {
   "cell_type": "code",
   "execution_count": null,
   "metadata": {},
   "outputs": [],
   "source": []
  },
  {
   "cell_type": "code",
   "execution_count": null,
   "metadata": {},
   "outputs": [],
   "source": [
    "df_test = df_test %>% mutate(Cabin_deck = splitted_test[, 1], \n",
    "                   Cabin_num = as.integer(splitted_test[, 2]), \n",
    "                   Cabin_side = splitted_test[, 3]) %>% select(-Cabin)\n",
    "head(df_test)"
   ]
  },
  {
   "cell_type": "code",
   "execution_count": null,
   "metadata": {},
   "outputs": [],
   "source": [
    "df_test$Cabin_deck[df_test$Cabin_deck == \"\"] = NA\n",
    "df_test$Cabin_num[df_test$Cabin_num == \"\"] = NA\n",
    "df_test$Cabin_side[df_test$Cabin_side == \"\"] = NA\n",
    "df_test$HomePlanet[df_test$HomePlanet == \"\"] = NA\n",
    "df_test$Destination[df_test$Destination == \"\"] = NA\n",
    "df_test$CryoSleep[df_test$CryoSleep == \"\"] = NA\n",
    "df_test$VIP[df_test$VIP == \"\"] = NA"
   ]
  },
  {
   "cell_type": "code",
   "execution_count": null,
   "metadata": {},
   "outputs": [],
   "source": [
    "missmap(df_test)\n",
    "# Ricardo: efectivamente hay valores perdidos en el conjunto de test"
   ]
  },
  {
   "cell_type": "code",
   "execution_count": null,
   "metadata": {},
   "outputs": [],
   "source": [
    "# Porcentaje de filas completas para el conjunto de test\n",
    "sum(complete.cases(df_test))/nrow(df_test)\n",
    "\n",
    "# Ricardo: la proporción de datos completos es muy parecida al conjunto de entrenamiento."
   ]
  },
  {
   "cell_type": "code",
   "execution_count": null,
   "metadata": {},
   "outputs": [],
   "source": [
    "# Comentarios generales:\n",
    "\n",
    "# Ricardo (28/12/2022):\n",
    "# -Os he dejado algunos comentarios en los que he puesto mi nombre.\n",
    "# -Creo que deberíamos dejar bonito el notebook para entregarlo, para ello igual nos conviene poner un apartado definiendo\n",
    "# el problema y describiendo brevemente las variables, además de ir incluyendo los pasos que hemos seguido en Introducción a la \n",
    "# ciencia de datos como apartados. Igual no hacer un análisis tan exhaustivo, pero lo suficiente para que conozcamos \n",
    "# bien las variables. Aunque igual podemos utilizar este notebook como borrador.\n",
    "# -Por otro lado propongo dejar esta celda al final del documento por si queréis ir añadiendo comentarios para el resto,\n",
    "# incluyendo vuestro nombre y añadiendo la fecha para dejar como una especie de \"registro\" y así\n",
    "# no saturamos el grupo de whats app"
   ]
  },
  {
   "cell_type": "code",
   "execution_count": null,
   "metadata": {},
   "outputs": [],
   "source": []
  }
 ],
 "metadata": {
  "kernelspec": {
   "display_name": "R",
   "language": "R",
   "name": "ir"
  },
  "language_info": {
   "codemirror_mode": "r",
   "file_extension": ".r",
   "mimetype": "text/x-r-source",
   "name": "R",
   "pygments_lexer": "r",
   "version": "4.2.2"
  },
  "vscode": {
   "interpreter": {
    "hash": "e7370f93d1d0cde622a1f8e1c04877d8463912d04d973331ad4851f04de6915a"
   }
  }
 },
 "nbformat": 4,
 "nbformat_minor": 2
}
